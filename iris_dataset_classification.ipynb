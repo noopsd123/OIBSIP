{
  "cells": [
    {
      "cell_type": "markdown",
      "source": [
        "OASIS INFOBYTE DATA SCIENCE INTERNSHIP TASK-1: CLASSIFICATION OF IRIS FLOWER"
      ],
      "metadata": {
        "id": "YHBogdB2pWdv"
      }
    },
    {
      "cell_type": "code",
      "execution_count": null,
      "metadata": {
        "id": "VUA9XX_mEyYF"
      },
      "outputs": [],
      "source": [
        "import numpy as np # linear algebra\n",
        "import pandas as pd # data processing, CSV file I/O (e.g. pd.read_csv)"
      ]
    },
    {
      "cell_type": "code",
      "execution_count": null,
      "metadata": {
        "id": "36A-dEovmoMM"
      },
      "outputs": [],
      "source": [
        "from google.colab import drive\n",
        "drive.mount('/content/drive')"
      ]
    },
    {
      "cell_type": "code",
      "execution_count": null,
      "metadata": {
        "id": "7zK5WvysEyYO"
      },
      "outputs": [],
      "source": [
        "# importing the Important Libraries\n",
        "import numpy as np\n",
        "import pandas as pd\n",
        "import matplotlib.pyplot as plt\n",
        "import seaborn as sns\n",
        "import warnings\n",
        "warnings.filterwarnings(\"ignore\")"
      ]
    },
    {
      "cell_type": "code",
      "execution_count": null,
      "metadata": {
        "id": "mUw21Fq1EyYP"
      },
      "outputs": [],
      "source": [
        "# Importing the Dataset\n",
        "df = pd.read_csv(\"/content/drive/MyDrive/Iris.csv\")\n",
        "df.head()"
      ]
    },
    {
      "cell_type": "code",
      "execution_count": null,
      "metadata": {
        "id": "fJDA2_3FEyYP"
      },
      "outputs": [],
      "source": []
    },
    {
      "cell_type": "markdown",
      "metadata": {
        "id": "EzX0uyo0EyYQ"
      },
      "source": [
        "# Profile Report"
      ]
    },
    {
      "cell_type": "code",
      "execution_count": null,
      "metadata": {
        "id": "Mwu3OPG7EyYT"
      },
      "outputs": [],
      "source": [
        "from pandas_profiling import ProfileReport\n",
        "ProfileReport(df)"
      ]
    },
    {
      "cell_type": "code",
      "execution_count": null,
      "metadata": {
        "id": "2G_QmYcpEyYU"
      },
      "outputs": [],
      "source": [
        "# Dropping Unnecessary values\n",
        "df.drop(\"Id\",axis=1,inplace=True)"
      ]
    },
    {
      "cell_type": "code",
      "execution_count": null,
      "metadata": {
        "id": "ZZ45Vf0_EyYW"
      },
      "outputs": [],
      "source": [
        "# Checking if any null values\n",
        "import missingno as msno\n",
        "msno.matrix(df,figsize=(5,4))"
      ]
    },
    {
      "cell_type": "markdown",
      "metadata": {
        "id": "Du_OwtodEyYX"
      },
      "source": [
        "As there are no missing values we do not need to fill any values ."
      ]
    },
    {
      "cell_type": "markdown",
      "metadata": {
        "id": "eiTdXeYcEyYY"
      },
      "source": [
        "# 1. Exploratory Data Analysis\n"
      ]
    },
    {
      "cell_type": "code",
      "execution_count": null,
      "metadata": {
        "id": "sI8EkTK7EyYZ"
      },
      "outputs": [],
      "source": [
        "plt.figure(figsize=(12,8))\n",
        "plt.subplot(1,2,1)\n",
        "df[\"Species\"].value_counts().plot(kind=\"bar\",color=\"orange\")\n",
        "plt.title(\"Species Count Plot\")\n",
        "plt.xlabel(\"Species\",fontweight=\"bold\")\n",
        "plt.ylabel(\"Count\",fontweight=\"bold\");\n",
        "plt.subplot(1,2,2)\n",
        "df[\"Species\"].value_counts().plot(kind=\"pie\",shadow=True)"
      ]
    },
    {
      "cell_type": "code",
      "execution_count": null,
      "metadata": {
        "id": "ZgEBOqbnEyYb"
      },
      "outputs": [],
      "source": [
        "plt.style.use(\"Solarize_Light2\")\n",
        "def Plot(dataset,features):\n",
        "    plt.figure(figsize=(12,8))\n",
        "    plt.subplot(1,2,1)\n",
        "    sns.distplot(dataset[features],bins=30,color=\"orange\")\n",
        "    plt.title(f\"{features} DistPlot\")\n",
        "    plt.xlabel(f\"{features}\",fontweight=\"bold\")\n",
        "    plt.ylabel(\"Density\",fontweight=\"bold\")\n",
        "    # Checking if any outliers\n",
        "    plt.subplot(1,2,2)\n",
        "    sns.boxplot(df[features],color=\"orange\")\n",
        "    plt.xlabel(f\"{features}\")\n",
        "    plt.ylabel(\"Count\")\n",
        "    plt.title(\"Boxplot of {}\".format(features))"
      ]
    },
    {
      "cell_type": "code",
      "execution_count": null,
      "metadata": {
        "id": "qolKwIOgEyYd"
      },
      "outputs": [],
      "source": [
        "Plot(df,\"SepalLengthCm\")"
      ]
    },
    {
      "cell_type": "code",
      "execution_count": null,
      "metadata": {
        "id": "Ko7vIHghEyYd"
      },
      "outputs": [],
      "source": [
        "Plot(df,\"SepalWidthCm\")"
      ]
    },
    {
      "cell_type": "code",
      "execution_count": null,
      "metadata": {
        "id": "5-kyUYphEyYe"
      },
      "outputs": [],
      "source": [
        "Plot(df,\"PetalLengthCm\")"
      ]
    },
    {
      "cell_type": "code",
      "execution_count": null,
      "metadata": {
        "id": "FqjW0OtrEyYe"
      },
      "outputs": [],
      "source": [
        "Plot(df,\"PetalWidthCm\")"
      ]
    },
    {
      "cell_type": "markdown",
      "metadata": {
        "id": "c-h2n-JsEyYf"
      },
      "source": [
        "# 2. Scatter plot of Two Columns"
      ]
    },
    {
      "cell_type": "code",
      "execution_count": null,
      "metadata": {
        "id": "47J9b9_uEyYf"
      },
      "outputs": [],
      "source": [
        "sns.scatterplot(data=df,x=\"SepalLengthCm\",y=\"PetalLengthCm\",hue=\"Species\");"
      ]
    },
    {
      "cell_type": "code",
      "execution_count": null,
      "metadata": {
        "id": "JLXoFzlfEyYf"
      },
      "outputs": [],
      "source": [
        "sns.scatterplot(data=df,x=\"SepalLengthCm\",y=\"SepalWidthCm\",hue=\"Species\");"
      ]
    },
    {
      "cell_type": "code",
      "execution_count": null,
      "metadata": {
        "id": "VNYCayi8EyYg"
      },
      "outputs": [],
      "source": [
        "sns.scatterplot(data=df,x=\"PetalLengthCm\",y=\"PetalWidthCm\",hue=\"Species\");"
      ]
    },
    {
      "cell_type": "code",
      "execution_count": null,
      "metadata": {
        "id": "JWgOR_iAEyYg"
      },
      "outputs": [],
      "source": [
        "sns.scatterplot(data=df,x=\"SepalLengthCm\",y=\"PetalWidthCm\",hue=\"Species\");"
      ]
    },
    {
      "cell_type": "markdown",
      "metadata": {
        "id": "f-VoOfjbEyYg"
      },
      "source": [
        "# 3. Correlation"
      ]
    },
    {
      "cell_type": "code",
      "execution_count": null,
      "metadata": {
        "id": "fZwBkbm4EyYg"
      },
      "outputs": [],
      "source": [
        "plt.figure(figsize=(8,6))\n",
        "sns.heatmap(df.corr(numeric_only=True),annot=True,cmap=\"Blues\");"
      ]
    },
    {
      "cell_type": "code",
      "execution_count": null,
      "metadata": {
        "id": "jCoNcvdREyYh"
      },
      "outputs": [],
      "source": [
        "sns.pairplot(df,hue=\"Species\")"
      ]
    },
    {
      "cell_type": "code",
      "execution_count": null,
      "metadata": {
        "id": "OquPL5gdEyYh"
      },
      "outputs": [],
      "source": [
        "# Converting Categorical into Numerical Columns\n",
        "mapping = {\"Iris-setosa\":0,\"Iris-versicolor\":1,\"Iris-virginica\":2}\n",
        "df[\"Species\"] = df[\"Species\"].map(mapping)"
      ]
    },
    {
      "cell_type": "markdown",
      "metadata": {
        "id": "r0lh7dHqEyYh"
      },
      "source": [
        "# Splitting the Data `"
      ]
    },
    {
      "cell_type": "code",
      "execution_count": null,
      "metadata": {
        "id": "W7n1TMQaEyYi"
      },
      "outputs": [],
      "source": [
        "X = df.drop(\"Species\",axis=1)\n",
        "y = df[\"Species\"]\n",
        "np.random.seed(42)\n",
        "from sklearn.model_selection import train_test_split\n",
        "X_train,X_test,y_train,y_test  = train_test_split(X,y,test_size=0.3,random_state=33)\n",
        "print(\"The shape of X_train is :\",X_train.shape)\n",
        "print(\"The shape of X_test is :\",X_test.shape)\n",
        "print(\"The shape of y_train is :\",y_train.shape)\n",
        "print(\"The shape of y_test is :\",y_test.shape)\n"
      ]
    },
    {
      "cell_type": "markdown",
      "metadata": {
        "id": "gZ1KSsCuEyYi"
      },
      "source": [
        "# Modelling"
      ]
    },
    {
      "cell_type": "code",
      "execution_count": null,
      "metadata": {
        "id": "5YUJgLOJEyYi"
      },
      "outputs": [],
      "source": [
        "# Importing all the models\n",
        "from sklearn.linear_model import LogisticRegression\n",
        "from sklearn.tree import DecisionTreeClassifier\n",
        "from sklearn.ensemble import RandomForestClassifier\n",
        "from sklearn.neighbors import KNeighborsClassifier"
      ]
    },
    {
      "cell_type": "code",
      "execution_count": null,
      "metadata": {
        "id": "7fYWMSxNEyYj"
      },
      "outputs": [],
      "source": [
        "models = [(\"LR\" ,LogisticRegression()),(\"DTR\" ,DecisionTreeClassifier()),(\"RFC\" , RandomForestClassifier()),(\"KNN\",KNeighborsClassifier())]\n"
      ]
    },
    {
      "cell_type": "code",
      "execution_count": null,
      "metadata": {
        "id": "qexhgadIEyYk"
      },
      "outputs": [],
      "source": [
        "# Importing important Classification metrics\n",
        "from sklearn.metrics import confusion_matrix,precision_score,f1_score,accuracy_score,classification_report\n"
      ]
    },
    {
      "cell_type": "code",
      "execution_count": null,
      "metadata": {
        "id": "d8Vq5-anEyYn"
      },
      "outputs": [],
      "source": [
        "for name,model in models:\n",
        "    model.fit(X_train,y_train)\n",
        "    y_pred = model.predict(X_test)\n",
        "    print(f\"====================={model}=====================\")\n",
        "\n",
        "    print(f\"The precision score of the model {model} is :\",{precision_score(y_test,y_pred,average=\"weighted\")})\n",
        "    print(f\"The F1 score of the model {model} is :\",({np.round(f1_score(y_test,y_pred,average=\"weighted\"),2)*100}))\n",
        "    print(f\"The Accuracy of the model is {model} is :\",{(np.round(accuracy_score(y_test,y_pred),2))*100})\n",
        "    print(\"-\"*64)\n",
        "    print((classification_report(y_pred,y_test)))\n",
        "\n",
        "    print(\"=\"*100)\n",
        "\n"
      ]
    },
    {
      "cell_type": "markdown",
      "metadata": {
        "id": "2c2DBG0dEyYo"
      },
      "source": [
        "# Hyperparamter Tuning"
      ]
    },
    {
      "cell_type": "markdown",
      "metadata": {
        "id": "Mt4ISCeVEyYp"
      },
      "source": [
        "# 1. Logistic Regression"
      ]
    },
    {
      "cell_type": "code",
      "execution_count": null,
      "metadata": {
        "id": "A2lAeF0-EyYq"
      },
      "outputs": [],
      "source": [
        "from sklearn.linear_model import LogisticRegression\n",
        "from sklearn.model_selection import GridSearchCV\n",
        "grid = {\"C\":np.logspace(2,10),\"penalty\":[\"l1\",\"l2\"]}\n",
        "LR = LogisticRegression()\n",
        "LR_cv = GridSearchCV(LR,grid,cv=10)\n",
        "LR_cv.fit(X_train,y_train)\n",
        "print(\"The best parameters are :\",LR_cv.best_params_)"
      ]
    },
    {
      "cell_type": "code",
      "execution_count": null,
      "metadata": {
        "id": "4pQYwuNiEyYr"
      },
      "outputs": [],
      "source": [
        "LR_HT = LogisticRegression(C=100,penalty=\"l2\")\n",
        "LR_HT.fit(X_train,y_train)\n",
        "y_pred = LR_HT.predict(X_test)\n",
        "LR_HT_score = (accuracy_score(y_test,y_pred)*100)\n",
        "print(\"The model prediction after model tuning is :\",(accuracy_score(y_test,y_pred)*100),\"%\")\n"
      ]
    },
    {
      "cell_type": "code",
      "execution_count": null,
      "metadata": {
        "id": "v9GI5mMJEyYr"
      },
      "outputs": [],
      "source": [
        "print(classification_report(y_test,y_pred))"
      ]
    },
    {
      "cell_type": "markdown",
      "metadata": {
        "id": "QczxqMM4EyYs"
      },
      "source": [
        "# 2. Decision Tree Classifier"
      ]
    },
    {
      "cell_type": "code",
      "execution_count": null,
      "metadata": {
        "id": "K2_WAudpEyYt"
      },
      "outputs": [],
      "source": [
        "import time\n",
        "%time\n",
        "from sklearn.model_selection import GridSearchCV\n",
        "\n",
        "param_grid = {'max_features': ['auto', 'sqrt', 'log2'],\n",
        "              'ccp_alpha': [0.1, .01, .001],\n",
        "              'max_depth' : [5, 6, 7, 8, 9],\n",
        "              'criterion' :['gini', 'entropy'],\n",
        "              'max_features' : [1,3,5,7]\n",
        "             }\n",
        "DTC = DecisionTreeClassifier(random_state=100)\n",
        "grid_search = GridSearchCV(estimator=DTC, param_grid=param_grid, cv=8, verbose=True)\n",
        "grid_search.fit(X_train, y_train)"
      ]
    },
    {
      "cell_type": "code",
      "execution_count": null,
      "metadata": {
        "id": "-JldYsSdEyY7"
      },
      "outputs": [],
      "source": [
        "grid_search.best_params_"
      ]
    },
    {
      "cell_type": "code",
      "execution_count": null,
      "metadata": {
        "id": "nLDakrLhEyY8"
      },
      "outputs": [],
      "source": [
        "DTR_HT = DecisionTreeClassifier(ccp_alpha= 0.001, criterion= 'gini', max_depth= 5, max_features= 1)\n",
        "DTR_HT.fit(X_train,y_train)\n",
        "y_pred = DTR_HT.predict(X_test)\n",
        "DHT_score = np.round(accuracy_score(y_test,y_pred),2)*100\n",
        "print(DHT_score)"
      ]
    },
    {
      "cell_type": "markdown",
      "metadata": {
        "id": "xfLyzEoIEyY8"
      },
      "source": [
        "# 3. Random Forest Classifier\n"
      ]
    },
    {
      "cell_type": "code",
      "execution_count": null,
      "metadata": {
        "id": "9fyEL1kLEyY9"
      },
      "outputs": [],
      "source": [
        "from sklearn.model_selection import GridSearchCV\n",
        "grid = {\n",
        "    'bootstrap': [True],\n",
        "    'max_depth': [90, 100, 110],\n",
        "    'max_features': [2, 3],\n",
        "    'min_samples_leaf': [3, 4, 5],\n",
        "    'min_samples_split': [8, 10, 12],\n",
        "    'n_estimators': [100, 200, 300, 1000]\n",
        "}\n",
        "RFC = RandomForestClassifier()\n",
        "RFC_HT = GridSearchCV(RFC,grid,cv=5,verbose=True,n_jobs=-1)\n",
        "RFC_HT.fit(X_train,y_train)\n",
        "RFC_HT.best_params_"
      ]
    },
    {
      "cell_type": "code",
      "execution_count": null,
      "metadata": {
        "id": "8zn2zjMJEyY9"
      },
      "outputs": [],
      "source": [
        "RFC = RandomForestClassifier(bootstrap= True,\n",
        " max_depth= 90,\n",
        " max_features= 2,\n",
        " min_samples_leaf= 3,\n",
        " min_samples_split= 8,\n",
        " n_estimators= 100)\n",
        "RFC.fit(X_train,y_train)\n",
        "y_pred_RFC = RFC.predict(X_test)\n",
        "RFC_accuracy = np.round(accuracy_score(y_test,y_pred_RFC),2)*100\n",
        "RFC_accuracy"
      ]
    },
    {
      "cell_type": "markdown",
      "metadata": {
        "id": "l0QbACtZEyY-"
      },
      "source": [
        "# 4. KNN Classifiers"
      ]
    },
    {
      "cell_type": "code",
      "execution_count": null,
      "metadata": {
        "id": "cYgLb3y5EyY-"
      },
      "outputs": [],
      "source": [
        "grid_params = { 'n_neighbors' : [5,7,9,11,13,15],\n",
        "               'weights' : ['uniform','distance'],\n",
        "               'metric' : ['minkowski','euclidean','manhattan']}\n",
        "KNN = KNeighborsClassifier()\n",
        "KNN_grid  = GridSearchCV(KNN,grid_params,verbose=1,n_jobs=-1,cv=3)\n",
        "KNN_grid.fit(X_train,y_train)\n",
        "y_pred = KNN_grid.predict(X_test)\n",
        "KNN_accuracy = np.round(accuracy_score(y_test,y_pred),2)*100\n",
        "KNN_accuracy\n"
      ]
    },
    {
      "cell_type": "code",
      "execution_count": null,
      "metadata": {
        "id": "RSBmG3oPEyY_"
      },
      "outputs": [],
      "source": [
        "# Accuracy Evaluation in a dataframe\n",
        "Model_fit = [[\"LR\",LR_HT_score],[\"DTR\",DHT_score],[\"RFC\" ,RFC_accuracy],[\"KNN\" , KNN_accuracy]]\n",
        "accuracy_df = pd.DataFrame(data=Model_fit,columns=[\"MODELS\",\"ACCURACY\"])\n",
        "accuracy_df"
      ]
    },
    {
      "cell_type": "code",
      "execution_count": null,
      "metadata": {
        "id": "pR-M4hWYEyY_"
      },
      "outputs": [],
      "source": [
        "plt.figure(figsize=(8,8))\n",
        "sns.barplot(data=accuracy_df,x=\"MODELS\",y=\"ACCURACY\")\n",
        "plt.title(\"Accuracy Percentage of all Models\",fontweight=\"bold\")\n",
        "plt.xlabel(\"MODELS\",fontweight=\"bold\")\n",
        "plt.ylabel(\"Accuracy Percentage\",fontweight=\"bold\");"
      ]
    },
    {
      "cell_type": "code",
      "execution_count": null,
      "metadata": {
        "id": "NYJvrj8gEyZA"
      },
      "outputs": [],
      "source": []
    }
  ],
  "metadata": {
    "colab": {
      "provenance": []
    },
    "kernelspec": {
      "display_name": "Python 3",
      "language": "python",
      "name": "python3"
    },
    "language_info": {
      "codemirror_mode": {
        "name": "ipython",
        "version": 3
      },
      "file_extension": ".py",
      "mimetype": "text/x-python",
      "name": "python",
      "nbconvert_exporter": "python",
      "pygments_lexer": "ipython3",
      "version": "3.10.12"
    }
  },
  "nbformat": 4,
  "nbformat_minor": 0
}