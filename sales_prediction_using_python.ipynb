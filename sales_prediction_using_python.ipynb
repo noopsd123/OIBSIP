{
  "cells": [
    {
      "cell_type": "markdown",
      "id": "35b5aa9b",
      "metadata": {
        "id": "35b5aa9b",
        "papermill": {
          "duration": 0.008992,
          "end_time": "2023-08-02T12:08:38.057225",
          "exception": false,
          "start_time": "2023-08-02T12:08:38.048233",
          "status": "completed"
        },
        "tags": []
      },
      "source": [
        "## OASIS INFOBYTE DATA SCIENCE INTERNSHIP TASK 5: SALES PREDICTION USING PYTHON by Noopur Divekar"
      ]
    },
    {
      "cell_type": "markdown",
      "id": "e7be5775",
      "metadata": {
        "id": "e7be5775",
        "papermill": {
          "duration": 0.008068,
          "end_time": "2023-08-02T12:08:38.074144",
          "exception": false,
          "start_time": "2023-08-02T12:08:38.066076",
          "status": "completed"
        },
        "tags": []
      },
      "source": [
        "Sales prediction with Python enables businesses to forecast future sales based on factors like advertising expenses, customer segmentation, and marketing platforms. Leveraging machine learning techniques, companies can analyze historical data, build predictive models, and make data-driven decisions to optimize marketing strategies, allocate resources efficiently, and maximize revenue potential. By continuously updating the models with new data, businesses can adapt to market dynamics and achieve better performance in a competitive environment."
      ]
    },
    {
      "cell_type": "code",
      "execution_count": null,
      "id": "fa85d339",
      "metadata": {
        "execution": {
          "iopub.execute_input": "2023-08-02T12:08:38.095078Z",
          "iopub.status.busy": "2023-08-02T12:08:38.094227Z",
          "iopub.status.idle": "2023-08-02T12:08:40.723432Z",
          "shell.execute_reply": "2023-08-02T12:08:40.722194Z"
        },
        "id": "fa85d339",
        "papermill": {
          "duration": 2.64261,
          "end_time": "2023-08-02T12:08:40.726760",
          "exception": false,
          "start_time": "2023-08-02T12:08:38.084150",
          "status": "completed"
        },
        "tags": []
      },
      "outputs": [],
      "source": [
        "# Import necessary libraries\n",
        "\n",
        "import numpy as np\n",
        "import pandas as pd\n",
        "import seaborn as sns\n",
        "import matplotlib.pyplot as plt\n",
        "import os\n",
        "import statsmodels.formula.api as sm\n",
        "from sklearn.linear_model import LinearRegression, Ridge, Lasso, ElasticNet\n",
        "from sklearn.metrics import mean_squared_error, r2_score\n",
        "from sklearn.model_selection import train_test_split\n",
        "from sklearn.model_selection import cross_val_score\n",
        "from sklearn.model_selection import GridSearchCV\n",
        "import warnings"
      ]
    },
    {
      "cell_type": "code",
      "execution_count": null,
      "id": "79a956a9",
      "metadata": {
        "execution": {
          "iopub.execute_input": "2023-08-02T12:08:40.746933Z",
          "iopub.status.busy": "2023-08-02T12:08:40.745275Z",
          "iopub.status.idle": "2023-08-02T12:08:40.757649Z",
          "shell.execute_reply": "2023-08-02T12:08:40.756399Z"
        },
        "id": "79a956a9",
        "outputId": "d4e82fe3-a09a-4f8f-88d7-41eee2de8218",
        "papermill": {
          "duration": 0.025385,
          "end_time": "2023-08-02T12:08:40.760590",
          "exception": false,
          "start_time": "2023-08-02T12:08:40.735205",
          "status": "completed"
        },
        "tags": [],
        "colab": {
          "base_uri": "https://localhost:8080/"
        }
      },
      "outputs": [
        {
          "output_type": "stream",
          "name": "stdout",
          "text": [
            "Drive already mounted at /content/drive; to attempt to forcibly remount, call drive.mount(\"/content/drive\", force_remount=True).\n"
          ]
        }
      ],
      "source": [
        "warnings.simplefilter(action='ignore', category=FutureWarning)\n",
        "os.getcwd()\n",
        "from google.colab import drive\n",
        "drive.mount('/content/drive')\n"
      ]
    },
    {
      "cell_type": "code",
      "execution_count": null,
      "id": "7b037f9f",
      "metadata": {
        "execution": {
          "iopub.execute_input": "2023-08-02T12:08:40.781112Z",
          "iopub.status.busy": "2023-08-02T12:08:40.780040Z",
          "iopub.status.idle": "2023-08-02T12:08:40.817342Z",
          "shell.execute_reply": "2023-08-02T12:08:40.815976Z"
        },
        "id": "7b037f9f",
        "papermill": {
          "duration": 0.05073,
          "end_time": "2023-08-02T12:08:40.820218",
          "exception": false,
          "start_time": "2023-08-02T12:08:40.769488",
          "status": "completed"
        },
        "tags": [],
        "colab": {
          "base_uri": "https://localhost:8080/",
          "height": 206
        },
        "outputId": "e6bd378e-14ee-46c1-c4ba-cb7504f67fa0"
      },
      "outputs": [
        {
          "output_type": "execute_result",
          "data": {
            "text/plain": [
              "   Unnamed: 0     TV  Radio  Newspaper  Sales\n",
              "0           1  230.1   37.8       69.2   22.1\n",
              "1           2   44.5   39.3       45.1   10.4\n",
              "2           3   17.2   45.9       69.3    9.3\n",
              "3           4  151.5   41.3       58.5   18.5\n",
              "4           5  180.8   10.8       58.4   12.9"
            ],
            "text/html": [
              "\n",
              "  <div id=\"df-8f1e88e1-e674-41d8-9ef0-fdfc776f8390\" class=\"colab-df-container\">\n",
              "    <div>\n",
              "<style scoped>\n",
              "    .dataframe tbody tr th:only-of-type {\n",
              "        vertical-align: middle;\n",
              "    }\n",
              "\n",
              "    .dataframe tbody tr th {\n",
              "        vertical-align: top;\n",
              "    }\n",
              "\n",
              "    .dataframe thead th {\n",
              "        text-align: right;\n",
              "    }\n",
              "</style>\n",
              "<table border=\"1\" class=\"dataframe\">\n",
              "  <thead>\n",
              "    <tr style=\"text-align: right;\">\n",
              "      <th></th>\n",
              "      <th>Unnamed: 0</th>\n",
              "      <th>TV</th>\n",
              "      <th>Radio</th>\n",
              "      <th>Newspaper</th>\n",
              "      <th>Sales</th>\n",
              "    </tr>\n",
              "  </thead>\n",
              "  <tbody>\n",
              "    <tr>\n",
              "      <th>0</th>\n",
              "      <td>1</td>\n",
              "      <td>230.1</td>\n",
              "      <td>37.8</td>\n",
              "      <td>69.2</td>\n",
              "      <td>22.1</td>\n",
              "    </tr>\n",
              "    <tr>\n",
              "      <th>1</th>\n",
              "      <td>2</td>\n",
              "      <td>44.5</td>\n",
              "      <td>39.3</td>\n",
              "      <td>45.1</td>\n",
              "      <td>10.4</td>\n",
              "    </tr>\n",
              "    <tr>\n",
              "      <th>2</th>\n",
              "      <td>3</td>\n",
              "      <td>17.2</td>\n",
              "      <td>45.9</td>\n",
              "      <td>69.3</td>\n",
              "      <td>9.3</td>\n",
              "    </tr>\n",
              "    <tr>\n",
              "      <th>3</th>\n",
              "      <td>4</td>\n",
              "      <td>151.5</td>\n",
              "      <td>41.3</td>\n",
              "      <td>58.5</td>\n",
              "      <td>18.5</td>\n",
              "    </tr>\n",
              "    <tr>\n",
              "      <th>4</th>\n",
              "      <td>5</td>\n",
              "      <td>180.8</td>\n",
              "      <td>10.8</td>\n",
              "      <td>58.4</td>\n",
              "      <td>12.9</td>\n",
              "    </tr>\n",
              "  </tbody>\n",
              "</table>\n",
              "</div>\n",
              "    <div class=\"colab-df-buttons\">\n",
              "\n",
              "  <div class=\"colab-df-container\">\n",
              "    <button class=\"colab-df-convert\" onclick=\"convertToInteractive('df-8f1e88e1-e674-41d8-9ef0-fdfc776f8390')\"\n",
              "            title=\"Convert this dataframe to an interactive table.\"\n",
              "            style=\"display:none;\">\n",
              "\n",
              "  <svg xmlns=\"http://www.w3.org/2000/svg\" height=\"24px\" viewBox=\"0 -960 960 960\">\n",
              "    <path d=\"M120-120v-720h720v720H120Zm60-500h600v-160H180v160Zm220 220h160v-160H400v160Zm0 220h160v-160H400v160ZM180-400h160v-160H180v160Zm440 0h160v-160H620v160ZM180-180h160v-160H180v160Zm440 0h160v-160H620v160Z\"/>\n",
              "  </svg>\n",
              "    </button>\n",
              "\n",
              "  <style>\n",
              "    .colab-df-container {\n",
              "      display:flex;\n",
              "      gap: 12px;\n",
              "    }\n",
              "\n",
              "    .colab-df-convert {\n",
              "      background-color: #E8F0FE;\n",
              "      border: none;\n",
              "      border-radius: 50%;\n",
              "      cursor: pointer;\n",
              "      display: none;\n",
              "      fill: #1967D2;\n",
              "      height: 32px;\n",
              "      padding: 0 0 0 0;\n",
              "      width: 32px;\n",
              "    }\n",
              "\n",
              "    .colab-df-convert:hover {\n",
              "      background-color: #E2EBFA;\n",
              "      box-shadow: 0px 1px 2px rgba(60, 64, 67, 0.3), 0px 1px 3px 1px rgba(60, 64, 67, 0.15);\n",
              "      fill: #174EA6;\n",
              "    }\n",
              "\n",
              "    .colab-df-buttons div {\n",
              "      margin-bottom: 4px;\n",
              "    }\n",
              "\n",
              "    [theme=dark] .colab-df-convert {\n",
              "      background-color: #3B4455;\n",
              "      fill: #D2E3FC;\n",
              "    }\n",
              "\n",
              "    [theme=dark] .colab-df-convert:hover {\n",
              "      background-color: #434B5C;\n",
              "      box-shadow: 0px 1px 3px 1px rgba(0, 0, 0, 0.15);\n",
              "      filter: drop-shadow(0px 1px 2px rgba(0, 0, 0, 0.3));\n",
              "      fill: #FFFFFF;\n",
              "    }\n",
              "  </style>\n",
              "\n",
              "    <script>\n",
              "      const buttonEl =\n",
              "        document.querySelector('#df-8f1e88e1-e674-41d8-9ef0-fdfc776f8390 button.colab-df-convert');\n",
              "      buttonEl.style.display =\n",
              "        google.colab.kernel.accessAllowed ? 'block' : 'none';\n",
              "\n",
              "      async function convertToInteractive(key) {\n",
              "        const element = document.querySelector('#df-8f1e88e1-e674-41d8-9ef0-fdfc776f8390');\n",
              "        const dataTable =\n",
              "          await google.colab.kernel.invokeFunction('convertToInteractive',\n",
              "                                                    [key], {});\n",
              "        if (!dataTable) return;\n",
              "\n",
              "        const docLinkHtml = 'Like what you see? Visit the ' +\n",
              "          '<a target=\"_blank\" href=https://colab.research.google.com/notebooks/data_table.ipynb>data table notebook</a>'\n",
              "          + ' to learn more about interactive tables.';\n",
              "        element.innerHTML = '';\n",
              "        dataTable['output_type'] = 'display_data';\n",
              "        await google.colab.output.renderOutput(dataTable, element);\n",
              "        const docLink = document.createElement('div');\n",
              "        docLink.innerHTML = docLinkHtml;\n",
              "        element.appendChild(docLink);\n",
              "      }\n",
              "    </script>\n",
              "  </div>\n",
              "\n",
              "\n",
              "<div id=\"df-75fc220d-692d-4788-b0e7-7f882b2e0ef2\">\n",
              "  <button class=\"colab-df-quickchart\" onclick=\"quickchart('df-75fc220d-692d-4788-b0e7-7f882b2e0ef2')\"\n",
              "            title=\"Suggest charts.\"\n",
              "            style=\"display:none;\">\n",
              "\n",
              "<svg xmlns=\"http://www.w3.org/2000/svg\" height=\"24px\"viewBox=\"0 0 24 24\"\n",
              "     width=\"24px\">\n",
              "    <g>\n",
              "        <path d=\"M19 3H5c-1.1 0-2 .9-2 2v14c0 1.1.9 2 2 2h14c1.1 0 2-.9 2-2V5c0-1.1-.9-2-2-2zM9 17H7v-7h2v7zm4 0h-2V7h2v10zm4 0h-2v-4h2v4z\"/>\n",
              "    </g>\n",
              "</svg>\n",
              "  </button>\n",
              "\n",
              "<style>\n",
              "  .colab-df-quickchart {\n",
              "      --bg-color: #E8F0FE;\n",
              "      --fill-color: #1967D2;\n",
              "      --hover-bg-color: #E2EBFA;\n",
              "      --hover-fill-color: #174EA6;\n",
              "      --disabled-fill-color: #AAA;\n",
              "      --disabled-bg-color: #DDD;\n",
              "  }\n",
              "\n",
              "  [theme=dark] .colab-df-quickchart {\n",
              "      --bg-color: #3B4455;\n",
              "      --fill-color: #D2E3FC;\n",
              "      --hover-bg-color: #434B5C;\n",
              "      --hover-fill-color: #FFFFFF;\n",
              "      --disabled-bg-color: #3B4455;\n",
              "      --disabled-fill-color: #666;\n",
              "  }\n",
              "\n",
              "  .colab-df-quickchart {\n",
              "    background-color: var(--bg-color);\n",
              "    border: none;\n",
              "    border-radius: 50%;\n",
              "    cursor: pointer;\n",
              "    display: none;\n",
              "    fill: var(--fill-color);\n",
              "    height: 32px;\n",
              "    padding: 0;\n",
              "    width: 32px;\n",
              "  }\n",
              "\n",
              "  .colab-df-quickchart:hover {\n",
              "    background-color: var(--hover-bg-color);\n",
              "    box-shadow: 0 1px 2px rgba(60, 64, 67, 0.3), 0 1px 3px 1px rgba(60, 64, 67, 0.15);\n",
              "    fill: var(--button-hover-fill-color);\n",
              "  }\n",
              "\n",
              "  .colab-df-quickchart-complete:disabled,\n",
              "  .colab-df-quickchart-complete:disabled:hover {\n",
              "    background-color: var(--disabled-bg-color);\n",
              "    fill: var(--disabled-fill-color);\n",
              "    box-shadow: none;\n",
              "  }\n",
              "\n",
              "  .colab-df-spinner {\n",
              "    border: 2px solid var(--fill-color);\n",
              "    border-color: transparent;\n",
              "    border-bottom-color: var(--fill-color);\n",
              "    animation:\n",
              "      spin 1s steps(1) infinite;\n",
              "  }\n",
              "\n",
              "  @keyframes spin {\n",
              "    0% {\n",
              "      border-color: transparent;\n",
              "      border-bottom-color: var(--fill-color);\n",
              "      border-left-color: var(--fill-color);\n",
              "    }\n",
              "    20% {\n",
              "      border-color: transparent;\n",
              "      border-left-color: var(--fill-color);\n",
              "      border-top-color: var(--fill-color);\n",
              "    }\n",
              "    30% {\n",
              "      border-color: transparent;\n",
              "      border-left-color: var(--fill-color);\n",
              "      border-top-color: var(--fill-color);\n",
              "      border-right-color: var(--fill-color);\n",
              "    }\n",
              "    40% {\n",
              "      border-color: transparent;\n",
              "      border-right-color: var(--fill-color);\n",
              "      border-top-color: var(--fill-color);\n",
              "    }\n",
              "    60% {\n",
              "      border-color: transparent;\n",
              "      border-right-color: var(--fill-color);\n",
              "    }\n",
              "    80% {\n",
              "      border-color: transparent;\n",
              "      border-right-color: var(--fill-color);\n",
              "      border-bottom-color: var(--fill-color);\n",
              "    }\n",
              "    90% {\n",
              "      border-color: transparent;\n",
              "      border-bottom-color: var(--fill-color);\n",
              "    }\n",
              "  }\n",
              "</style>\n",
              "\n",
              "  <script>\n",
              "    async function quickchart(key) {\n",
              "      const quickchartButtonEl =\n",
              "        document.querySelector('#' + key + ' button');\n",
              "      quickchartButtonEl.disabled = true;  // To prevent multiple clicks.\n",
              "      quickchartButtonEl.classList.add('colab-df-spinner');\n",
              "      try {\n",
              "        const charts = await google.colab.kernel.invokeFunction(\n",
              "            'suggestCharts', [key], {});\n",
              "      } catch (error) {\n",
              "        console.error('Error during call to suggestCharts:', error);\n",
              "      }\n",
              "      quickchartButtonEl.classList.remove('colab-df-spinner');\n",
              "      quickchartButtonEl.classList.add('colab-df-quickchart-complete');\n",
              "    }\n",
              "    (() => {\n",
              "      let quickchartButtonEl =\n",
              "        document.querySelector('#df-75fc220d-692d-4788-b0e7-7f882b2e0ef2 button');\n",
              "      quickchartButtonEl.style.display =\n",
              "        google.colab.kernel.accessAllowed ? 'block' : 'none';\n",
              "    })();\n",
              "  </script>\n",
              "</div>\n",
              "    </div>\n",
              "  </div>\n"
            ]
          },
          "metadata": {},
          "execution_count": 6
        }
      ],
      "source": [
        "# Importing the Dataset\n",
        "df = pd.read_csv(\"/content/drive/MyDrive/Advertising.csv\")\n",
        "df.head()"
      ]
    },
    {
      "cell_type": "markdown",
      "id": "44fa5235",
      "metadata": {
        "id": "44fa5235",
        "papermill": {
          "duration": 0.008805,
          "end_time": "2023-08-02T12:08:40.837523",
          "exception": false,
          "start_time": "2023-08-02T12:08:40.828718",
          "status": "completed"
        },
        "tags": []
      },
      "source": [
        "### Exploratory Data Analysis"
      ]
    },
    {
      "cell_type": "code",
      "execution_count": null,
      "id": "40654a10",
      "metadata": {
        "execution": {
          "iopub.execute_input": "2023-08-02T12:08:40.856530Z",
          "iopub.status.busy": "2023-08-02T12:08:40.856080Z",
          "iopub.status.idle": "2023-08-02T12:08:40.881917Z",
          "shell.execute_reply": "2023-08-02T12:08:40.881018Z"
        },
        "id": "40654a10",
        "outputId": "02c438e9-7807-4b5c-85f0-9caaf206e17b",
        "papermill": {
          "duration": 0.038114,
          "end_time": "2023-08-02T12:08:40.884245",
          "exception": false,
          "start_time": "2023-08-02T12:08:40.846131",
          "status": "completed"
        },
        "tags": [],
        "colab": {
          "base_uri": "https://localhost:8080/",
          "height": 206
        }
      },
      "outputs": [
        {
          "output_type": "execute_result",
          "data": {
            "text/plain": [
              "   Unnamed: 0     TV  Radio  Newspaper  Sales\n",
              "0           1  230.1   37.8       69.2   22.1\n",
              "1           2   44.5   39.3       45.1   10.4\n",
              "2           3   17.2   45.9       69.3    9.3\n",
              "3           4  151.5   41.3       58.5   18.5\n",
              "4           5  180.8   10.8       58.4   12.9"
            ],
            "text/html": [
              "\n",
              "  <div id=\"df-de3880fb-31a7-4489-8653-a381caaa96ff\" class=\"colab-df-container\">\n",
              "    <div>\n",
              "<style scoped>\n",
              "    .dataframe tbody tr th:only-of-type {\n",
              "        vertical-align: middle;\n",
              "    }\n",
              "\n",
              "    .dataframe tbody tr th {\n",
              "        vertical-align: top;\n",
              "    }\n",
              "\n",
              "    .dataframe thead th {\n",
              "        text-align: right;\n",
              "    }\n",
              "</style>\n",
              "<table border=\"1\" class=\"dataframe\">\n",
              "  <thead>\n",
              "    <tr style=\"text-align: right;\">\n",
              "      <th></th>\n",
              "      <th>Unnamed: 0</th>\n",
              "      <th>TV</th>\n",
              "      <th>Radio</th>\n",
              "      <th>Newspaper</th>\n",
              "      <th>Sales</th>\n",
              "    </tr>\n",
              "  </thead>\n",
              "  <tbody>\n",
              "    <tr>\n",
              "      <th>0</th>\n",
              "      <td>1</td>\n",
              "      <td>230.1</td>\n",
              "      <td>37.8</td>\n",
              "      <td>69.2</td>\n",
              "      <td>22.1</td>\n",
              "    </tr>\n",
              "    <tr>\n",
              "      <th>1</th>\n",
              "      <td>2</td>\n",
              "      <td>44.5</td>\n",
              "      <td>39.3</td>\n",
              "      <td>45.1</td>\n",
              "      <td>10.4</td>\n",
              "    </tr>\n",
              "    <tr>\n",
              "      <th>2</th>\n",
              "      <td>3</td>\n",
              "      <td>17.2</td>\n",
              "      <td>45.9</td>\n",
              "      <td>69.3</td>\n",
              "      <td>9.3</td>\n",
              "    </tr>\n",
              "    <tr>\n",
              "      <th>3</th>\n",
              "      <td>4</td>\n",
              "      <td>151.5</td>\n",
              "      <td>41.3</td>\n",
              "      <td>58.5</td>\n",
              "      <td>18.5</td>\n",
              "    </tr>\n",
              "    <tr>\n",
              "      <th>4</th>\n",
              "      <td>5</td>\n",
              "      <td>180.8</td>\n",
              "      <td>10.8</td>\n",
              "      <td>58.4</td>\n",
              "      <td>12.9</td>\n",
              "    </tr>\n",
              "  </tbody>\n",
              "</table>\n",
              "</div>\n",
              "    <div class=\"colab-df-buttons\">\n",
              "\n",
              "  <div class=\"colab-df-container\">\n",
              "    <button class=\"colab-df-convert\" onclick=\"convertToInteractive('df-de3880fb-31a7-4489-8653-a381caaa96ff')\"\n",
              "            title=\"Convert this dataframe to an interactive table.\"\n",
              "            style=\"display:none;\">\n",
              "\n",
              "  <svg xmlns=\"http://www.w3.org/2000/svg\" height=\"24px\" viewBox=\"0 -960 960 960\">\n",
              "    <path d=\"M120-120v-720h720v720H120Zm60-500h600v-160H180v160Zm220 220h160v-160H400v160Zm0 220h160v-160H400v160ZM180-400h160v-160H180v160Zm440 0h160v-160H620v160ZM180-180h160v-160H180v160Zm440 0h160v-160H620v160Z\"/>\n",
              "  </svg>\n",
              "    </button>\n",
              "\n",
              "  <style>\n",
              "    .colab-df-container {\n",
              "      display:flex;\n",
              "      gap: 12px;\n",
              "    }\n",
              "\n",
              "    .colab-df-convert {\n",
              "      background-color: #E8F0FE;\n",
              "      border: none;\n",
              "      border-radius: 50%;\n",
              "      cursor: pointer;\n",
              "      display: none;\n",
              "      fill: #1967D2;\n",
              "      height: 32px;\n",
              "      padding: 0 0 0 0;\n",
              "      width: 32px;\n",
              "    }\n",
              "\n",
              "    .colab-df-convert:hover {\n",
              "      background-color: #E2EBFA;\n",
              "      box-shadow: 0px 1px 2px rgba(60, 64, 67, 0.3), 0px 1px 3px 1px rgba(60, 64, 67, 0.15);\n",
              "      fill: #174EA6;\n",
              "    }\n",
              "\n",
              "    .colab-df-buttons div {\n",
              "      margin-bottom: 4px;\n",
              "    }\n",
              "\n",
              "    [theme=dark] .colab-df-convert {\n",
              "      background-color: #3B4455;\n",
              "      fill: #D2E3FC;\n",
              "    }\n",
              "\n",
              "    [theme=dark] .colab-df-convert:hover {\n",
              "      background-color: #434B5C;\n",
              "      box-shadow: 0px 1px 3px 1px rgba(0, 0, 0, 0.15);\n",
              "      filter: drop-shadow(0px 1px 2px rgba(0, 0, 0, 0.3));\n",
              "      fill: #FFFFFF;\n",
              "    }\n",
              "  </style>\n",
              "\n",
              "    <script>\n",
              "      const buttonEl =\n",
              "        document.querySelector('#df-de3880fb-31a7-4489-8653-a381caaa96ff button.colab-df-convert');\n",
              "      buttonEl.style.display =\n",
              "        google.colab.kernel.accessAllowed ? 'block' : 'none';\n",
              "\n",
              "      async function convertToInteractive(key) {\n",
              "        const element = document.querySelector('#df-de3880fb-31a7-4489-8653-a381caaa96ff');\n",
              "        const dataTable =\n",
              "          await google.colab.kernel.invokeFunction('convertToInteractive',\n",
              "                                                    [key], {});\n",
              "        if (!dataTable) return;\n",
              "\n",
              "        const docLinkHtml = 'Like what you see? Visit the ' +\n",
              "          '<a target=\"_blank\" href=https://colab.research.google.com/notebooks/data_table.ipynb>data table notebook</a>'\n",
              "          + ' to learn more about interactive tables.';\n",
              "        element.innerHTML = '';\n",
              "        dataTable['output_type'] = 'display_data';\n",
              "        await google.colab.output.renderOutput(dataTable, element);\n",
              "        const docLink = document.createElement('div');\n",
              "        docLink.innerHTML = docLinkHtml;\n",
              "        element.appendChild(docLink);\n",
              "      }\n",
              "    </script>\n",
              "  </div>\n",
              "\n",
              "\n",
              "<div id=\"df-5bc43f7b-7836-4a38-9941-87f8c6a2e743\">\n",
              "  <button class=\"colab-df-quickchart\" onclick=\"quickchart('df-5bc43f7b-7836-4a38-9941-87f8c6a2e743')\"\n",
              "            title=\"Suggest charts.\"\n",
              "            style=\"display:none;\">\n",
              "\n",
              "<svg xmlns=\"http://www.w3.org/2000/svg\" height=\"24px\"viewBox=\"0 0 24 24\"\n",
              "     width=\"24px\">\n",
              "    <g>\n",
              "        <path d=\"M19 3H5c-1.1 0-2 .9-2 2v14c0 1.1.9 2 2 2h14c1.1 0 2-.9 2-2V5c0-1.1-.9-2-2-2zM9 17H7v-7h2v7zm4 0h-2V7h2v10zm4 0h-2v-4h2v4z\"/>\n",
              "    </g>\n",
              "</svg>\n",
              "  </button>\n",
              "\n",
              "<style>\n",
              "  .colab-df-quickchart {\n",
              "      --bg-color: #E8F0FE;\n",
              "      --fill-color: #1967D2;\n",
              "      --hover-bg-color: #E2EBFA;\n",
              "      --hover-fill-color: #174EA6;\n",
              "      --disabled-fill-color: #AAA;\n",
              "      --disabled-bg-color: #DDD;\n",
              "  }\n",
              "\n",
              "  [theme=dark] .colab-df-quickchart {\n",
              "      --bg-color: #3B4455;\n",
              "      --fill-color: #D2E3FC;\n",
              "      --hover-bg-color: #434B5C;\n",
              "      --hover-fill-color: #FFFFFF;\n",
              "      --disabled-bg-color: #3B4455;\n",
              "      --disabled-fill-color: #666;\n",
              "  }\n",
              "\n",
              "  .colab-df-quickchart {\n",
              "    background-color: var(--bg-color);\n",
              "    border: none;\n",
              "    border-radius: 50%;\n",
              "    cursor: pointer;\n",
              "    display: none;\n",
              "    fill: var(--fill-color);\n",
              "    height: 32px;\n",
              "    padding: 0;\n",
              "    width: 32px;\n",
              "  }\n",
              "\n",
              "  .colab-df-quickchart:hover {\n",
              "    background-color: var(--hover-bg-color);\n",
              "    box-shadow: 0 1px 2px rgba(60, 64, 67, 0.3), 0 1px 3px 1px rgba(60, 64, 67, 0.15);\n",
              "    fill: var(--button-hover-fill-color);\n",
              "  }\n",
              "\n",
              "  .colab-df-quickchart-complete:disabled,\n",
              "  .colab-df-quickchart-complete:disabled:hover {\n",
              "    background-color: var(--disabled-bg-color);\n",
              "    fill: var(--disabled-fill-color);\n",
              "    box-shadow: none;\n",
              "  }\n",
              "\n",
              "  .colab-df-spinner {\n",
              "    border: 2px solid var(--fill-color);\n",
              "    border-color: transparent;\n",
              "    border-bottom-color: var(--fill-color);\n",
              "    animation:\n",
              "      spin 1s steps(1) infinite;\n",
              "  }\n",
              "\n",
              "  @keyframes spin {\n",
              "    0% {\n",
              "      border-color: transparent;\n",
              "      border-bottom-color: var(--fill-color);\n",
              "      border-left-color: var(--fill-color);\n",
              "    }\n",
              "    20% {\n",
              "      border-color: transparent;\n",
              "      border-left-color: var(--fill-color);\n",
              "      border-top-color: var(--fill-color);\n",
              "    }\n",
              "    30% {\n",
              "      border-color: transparent;\n",
              "      border-left-color: var(--fill-color);\n",
              "      border-top-color: var(--fill-color);\n",
              "      border-right-color: var(--fill-color);\n",
              "    }\n",
              "    40% {\n",
              "      border-color: transparent;\n",
              "      border-right-color: var(--fill-color);\n",
              "      border-top-color: var(--fill-color);\n",
              "    }\n",
              "    60% {\n",
              "      border-color: transparent;\n",
              "      border-right-color: var(--fill-color);\n",
              "    }\n",
              "    80% {\n",
              "      border-color: transparent;\n",
              "      border-right-color: var(--fill-color);\n",
              "      border-bottom-color: var(--fill-color);\n",
              "    }\n",
              "    90% {\n",
              "      border-color: transparent;\n",
              "      border-bottom-color: var(--fill-color);\n",
              "    }\n",
              "  }\n",
              "</style>\n",
              "\n",
              "  <script>\n",
              "    async function quickchart(key) {\n",
              "      const quickchartButtonEl =\n",
              "        document.querySelector('#' + key + ' button');\n",
              "      quickchartButtonEl.disabled = true;  // To prevent multiple clicks.\n",
              "      quickchartButtonEl.classList.add('colab-df-spinner');\n",
              "      try {\n",
              "        const charts = await google.colab.kernel.invokeFunction(\n",
              "            'suggestCharts', [key], {});\n",
              "      } catch (error) {\n",
              "        console.error('Error during call to suggestCharts:', error);\n",
              "      }\n",
              "      quickchartButtonEl.classList.remove('colab-df-spinner');\n",
              "      quickchartButtonEl.classList.add('colab-df-quickchart-complete');\n",
              "    }\n",
              "    (() => {\n",
              "      let quickchartButtonEl =\n",
              "        document.querySelector('#df-5bc43f7b-7836-4a38-9941-87f8c6a2e743 button');\n",
              "      quickchartButtonEl.style.display =\n",
              "        google.colab.kernel.accessAllowed ? 'block' : 'none';\n",
              "    })();\n",
              "  </script>\n",
              "</div>\n",
              "    </div>\n",
              "  </div>\n"
            ]
          },
          "metadata": {},
          "execution_count": 7
        }
      ],
      "source": [
        "# View the first few rows of the dataset\n",
        "\n",
        "df.head()"
      ]
    },
    {
      "cell_type": "code",
      "execution_count": null,
      "id": "aca08b91",
      "metadata": {
        "execution": {
          "iopub.execute_input": "2023-08-02T12:08:40.906317Z",
          "iopub.status.busy": "2023-08-02T12:08:40.905920Z",
          "iopub.status.idle": "2023-08-02T12:08:40.914016Z",
          "shell.execute_reply": "2023-08-02T12:08:40.912613Z"
        },
        "id": "aca08b91",
        "outputId": "d5bb47fe-4567-4204-f113-844e94c67b9c",
        "papermill": {
          "duration": 0.023246,
          "end_time": "2023-08-02T12:08:40.916510",
          "exception": false,
          "start_time": "2023-08-02T12:08:40.893264",
          "status": "completed"
        },
        "tags": [],
        "colab": {
          "base_uri": "https://localhost:8080/"
        }
      },
      "outputs": [
        {
          "output_type": "execute_result",
          "data": {
            "text/plain": [
              "Index(['Unnamed: 0', 'TV', 'Radio', 'Newspaper', 'Sales'], dtype='object')"
            ]
          },
          "metadata": {},
          "execution_count": 8
        }
      ],
      "source": [
        "# Get the column names of the dataset\n",
        "\n",
        "df.columns"
      ]
    },
    {
      "cell_type": "code",
      "execution_count": null,
      "id": "846bcc33",
      "metadata": {
        "execution": {
          "iopub.execute_input": "2023-08-02T12:08:40.936900Z",
          "iopub.status.busy": "2023-08-02T12:08:40.935715Z",
          "iopub.status.idle": "2023-08-02T12:08:40.946439Z",
          "shell.execute_reply": "2023-08-02T12:08:40.945460Z"
        },
        "id": "846bcc33",
        "papermill": {
          "duration": 0.023665,
          "end_time": "2023-08-02T12:08:40.949057",
          "exception": false,
          "start_time": "2023-08-02T12:08:40.925392",
          "status": "completed"
        },
        "tags": []
      },
      "outputs": [],
      "source": [
        "# To rename the column 'Unnamed: 0' to 'Index'\n",
        "df.rename(columns={'Unnamed: 0': 'Index'}, inplace=True)\n"
      ]
    },
    {
      "cell_type": "code",
      "execution_count": null,
      "id": "a81c2eed",
      "metadata": {
        "execution": {
          "iopub.execute_input": "2023-08-02T12:08:40.969169Z",
          "iopub.status.busy": "2023-08-02T12:08:40.968754Z",
          "iopub.status.idle": "2023-08-02T12:08:40.988514Z",
          "shell.execute_reply": "2023-08-02T12:08:40.987497Z"
        },
        "id": "a81c2eed",
        "outputId": "763d6261-990e-4e7c-859c-e4bfc5602121",
        "papermill": {
          "duration": 0.032472,
          "end_time": "2023-08-02T12:08:40.990823",
          "exception": false,
          "start_time": "2023-08-02T12:08:40.958351",
          "status": "completed"
        },
        "tags": [],
        "colab": {
          "base_uri": "https://localhost:8080/",
          "height": 424
        }
      },
      "outputs": [
        {
          "output_type": "execute_result",
          "data": {
            "text/plain": [
              "     Index     TV  Radio  Newspaper  Sales\n",
              "0        1  230.1   37.8       69.2   22.1\n",
              "1        2   44.5   39.3       45.1   10.4\n",
              "2        3   17.2   45.9       69.3    9.3\n",
              "3        4  151.5   41.3       58.5   18.5\n",
              "4        5  180.8   10.8       58.4   12.9\n",
              "..     ...    ...    ...        ...    ...\n",
              "195    196   38.2    3.7       13.8    7.6\n",
              "196    197   94.2    4.9        8.1    9.7\n",
              "197    198  177.0    9.3        6.4   12.8\n",
              "198    199  283.6   42.0       66.2   25.5\n",
              "199    200  232.1    8.6        8.7   13.4\n",
              "\n",
              "[200 rows x 5 columns]"
            ],
            "text/html": [
              "\n",
              "  <div id=\"df-ab741ed1-4f3e-4ed0-9d51-112dbadd63f0\" class=\"colab-df-container\">\n",
              "    <div>\n",
              "<style scoped>\n",
              "    .dataframe tbody tr th:only-of-type {\n",
              "        vertical-align: middle;\n",
              "    }\n",
              "\n",
              "    .dataframe tbody tr th {\n",
              "        vertical-align: top;\n",
              "    }\n",
              "\n",
              "    .dataframe thead th {\n",
              "        text-align: right;\n",
              "    }\n",
              "</style>\n",
              "<table border=\"1\" class=\"dataframe\">\n",
              "  <thead>\n",
              "    <tr style=\"text-align: right;\">\n",
              "      <th></th>\n",
              "      <th>Index</th>\n",
              "      <th>TV</th>\n",
              "      <th>Radio</th>\n",
              "      <th>Newspaper</th>\n",
              "      <th>Sales</th>\n",
              "    </tr>\n",
              "  </thead>\n",
              "  <tbody>\n",
              "    <tr>\n",
              "      <th>0</th>\n",
              "      <td>1</td>\n",
              "      <td>230.1</td>\n",
              "      <td>37.8</td>\n",
              "      <td>69.2</td>\n",
              "      <td>22.1</td>\n",
              "    </tr>\n",
              "    <tr>\n",
              "      <th>1</th>\n",
              "      <td>2</td>\n",
              "      <td>44.5</td>\n",
              "      <td>39.3</td>\n",
              "      <td>45.1</td>\n",
              "      <td>10.4</td>\n",
              "    </tr>\n",
              "    <tr>\n",
              "      <th>2</th>\n",
              "      <td>3</td>\n",
              "      <td>17.2</td>\n",
              "      <td>45.9</td>\n",
              "      <td>69.3</td>\n",
              "      <td>9.3</td>\n",
              "    </tr>\n",
              "    <tr>\n",
              "      <th>3</th>\n",
              "      <td>4</td>\n",
              "      <td>151.5</td>\n",
              "      <td>41.3</td>\n",
              "      <td>58.5</td>\n",
              "      <td>18.5</td>\n",
              "    </tr>\n",
              "    <tr>\n",
              "      <th>4</th>\n",
              "      <td>5</td>\n",
              "      <td>180.8</td>\n",
              "      <td>10.8</td>\n",
              "      <td>58.4</td>\n",
              "      <td>12.9</td>\n",
              "    </tr>\n",
              "    <tr>\n",
              "      <th>...</th>\n",
              "      <td>...</td>\n",
              "      <td>...</td>\n",
              "      <td>...</td>\n",
              "      <td>...</td>\n",
              "      <td>...</td>\n",
              "    </tr>\n",
              "    <tr>\n",
              "      <th>195</th>\n",
              "      <td>196</td>\n",
              "      <td>38.2</td>\n",
              "      <td>3.7</td>\n",
              "      <td>13.8</td>\n",
              "      <td>7.6</td>\n",
              "    </tr>\n",
              "    <tr>\n",
              "      <th>196</th>\n",
              "      <td>197</td>\n",
              "      <td>94.2</td>\n",
              "      <td>4.9</td>\n",
              "      <td>8.1</td>\n",
              "      <td>9.7</td>\n",
              "    </tr>\n",
              "    <tr>\n",
              "      <th>197</th>\n",
              "      <td>198</td>\n",
              "      <td>177.0</td>\n",
              "      <td>9.3</td>\n",
              "      <td>6.4</td>\n",
              "      <td>12.8</td>\n",
              "    </tr>\n",
              "    <tr>\n",
              "      <th>198</th>\n",
              "      <td>199</td>\n",
              "      <td>283.6</td>\n",
              "      <td>42.0</td>\n",
              "      <td>66.2</td>\n",
              "      <td>25.5</td>\n",
              "    </tr>\n",
              "    <tr>\n",
              "      <th>199</th>\n",
              "      <td>200</td>\n",
              "      <td>232.1</td>\n",
              "      <td>8.6</td>\n",
              "      <td>8.7</td>\n",
              "      <td>13.4</td>\n",
              "    </tr>\n",
              "  </tbody>\n",
              "</table>\n",
              "<p>200 rows × 5 columns</p>\n",
              "</div>\n",
              "    <div class=\"colab-df-buttons\">\n",
              "\n",
              "  <div class=\"colab-df-container\">\n",
              "    <button class=\"colab-df-convert\" onclick=\"convertToInteractive('df-ab741ed1-4f3e-4ed0-9d51-112dbadd63f0')\"\n",
              "            title=\"Convert this dataframe to an interactive table.\"\n",
              "            style=\"display:none;\">\n",
              "\n",
              "  <svg xmlns=\"http://www.w3.org/2000/svg\" height=\"24px\" viewBox=\"0 -960 960 960\">\n",
              "    <path d=\"M120-120v-720h720v720H120Zm60-500h600v-160H180v160Zm220 220h160v-160H400v160Zm0 220h160v-160H400v160ZM180-400h160v-160H180v160Zm440 0h160v-160H620v160ZM180-180h160v-160H180v160Zm440 0h160v-160H620v160Z\"/>\n",
              "  </svg>\n",
              "    </button>\n",
              "\n",
              "  <style>\n",
              "    .colab-df-container {\n",
              "      display:flex;\n",
              "      gap: 12px;\n",
              "    }\n",
              "\n",
              "    .colab-df-convert {\n",
              "      background-color: #E8F0FE;\n",
              "      border: none;\n",
              "      border-radius: 50%;\n",
              "      cursor: pointer;\n",
              "      display: none;\n",
              "      fill: #1967D2;\n",
              "      height: 32px;\n",
              "      padding: 0 0 0 0;\n",
              "      width: 32px;\n",
              "    }\n",
              "\n",
              "    .colab-df-convert:hover {\n",
              "      background-color: #E2EBFA;\n",
              "      box-shadow: 0px 1px 2px rgba(60, 64, 67, 0.3), 0px 1px 3px 1px rgba(60, 64, 67, 0.15);\n",
              "      fill: #174EA6;\n",
              "    }\n",
              "\n",
              "    .colab-df-buttons div {\n",
              "      margin-bottom: 4px;\n",
              "    }\n",
              "\n",
              "    [theme=dark] .colab-df-convert {\n",
              "      background-color: #3B4455;\n",
              "      fill: #D2E3FC;\n",
              "    }\n",
              "\n",
              "    [theme=dark] .colab-df-convert:hover {\n",
              "      background-color: #434B5C;\n",
              "      box-shadow: 0px 1px 3px 1px rgba(0, 0, 0, 0.15);\n",
              "      filter: drop-shadow(0px 1px 2px rgba(0, 0, 0, 0.3));\n",
              "      fill: #FFFFFF;\n",
              "    }\n",
              "  </style>\n",
              "\n",
              "    <script>\n",
              "      const buttonEl =\n",
              "        document.querySelector('#df-ab741ed1-4f3e-4ed0-9d51-112dbadd63f0 button.colab-df-convert');\n",
              "      buttonEl.style.display =\n",
              "        google.colab.kernel.accessAllowed ? 'block' : 'none';\n",
              "\n",
              "      async function convertToInteractive(key) {\n",
              "        const element = document.querySelector('#df-ab741ed1-4f3e-4ed0-9d51-112dbadd63f0');\n",
              "        const dataTable =\n",
              "          await google.colab.kernel.invokeFunction('convertToInteractive',\n",
              "                                                    [key], {});\n",
              "        if (!dataTable) return;\n",
              "\n",
              "        const docLinkHtml = 'Like what you see? Visit the ' +\n",
              "          '<a target=\"_blank\" href=https://colab.research.google.com/notebooks/data_table.ipynb>data table notebook</a>'\n",
              "          + ' to learn more about interactive tables.';\n",
              "        element.innerHTML = '';\n",
              "        dataTable['output_type'] = 'display_data';\n",
              "        await google.colab.output.renderOutput(dataTable, element);\n",
              "        const docLink = document.createElement('div');\n",
              "        docLink.innerHTML = docLinkHtml;\n",
              "        element.appendChild(docLink);\n",
              "      }\n",
              "    </script>\n",
              "  </div>\n",
              "\n",
              "\n",
              "<div id=\"df-531562fe-ca5d-47a7-b879-d16e0a73b43c\">\n",
              "  <button class=\"colab-df-quickchart\" onclick=\"quickchart('df-531562fe-ca5d-47a7-b879-d16e0a73b43c')\"\n",
              "            title=\"Suggest charts.\"\n",
              "            style=\"display:none;\">\n",
              "\n",
              "<svg xmlns=\"http://www.w3.org/2000/svg\" height=\"24px\"viewBox=\"0 0 24 24\"\n",
              "     width=\"24px\">\n",
              "    <g>\n",
              "        <path d=\"M19 3H5c-1.1 0-2 .9-2 2v14c0 1.1.9 2 2 2h14c1.1 0 2-.9 2-2V5c0-1.1-.9-2-2-2zM9 17H7v-7h2v7zm4 0h-2V7h2v10zm4 0h-2v-4h2v4z\"/>\n",
              "    </g>\n",
              "</svg>\n",
              "  </button>\n",
              "\n",
              "<style>\n",
              "  .colab-df-quickchart {\n",
              "      --bg-color: #E8F0FE;\n",
              "      --fill-color: #1967D2;\n",
              "      --hover-bg-color: #E2EBFA;\n",
              "      --hover-fill-color: #174EA6;\n",
              "      --disabled-fill-color: #AAA;\n",
              "      --disabled-bg-color: #DDD;\n",
              "  }\n",
              "\n",
              "  [theme=dark] .colab-df-quickchart {\n",
              "      --bg-color: #3B4455;\n",
              "      --fill-color: #D2E3FC;\n",
              "      --hover-bg-color: #434B5C;\n",
              "      --hover-fill-color: #FFFFFF;\n",
              "      --disabled-bg-color: #3B4455;\n",
              "      --disabled-fill-color: #666;\n",
              "  }\n",
              "\n",
              "  .colab-df-quickchart {\n",
              "    background-color: var(--bg-color);\n",
              "    border: none;\n",
              "    border-radius: 50%;\n",
              "    cursor: pointer;\n",
              "    display: none;\n",
              "    fill: var(--fill-color);\n",
              "    height: 32px;\n",
              "    padding: 0;\n",
              "    width: 32px;\n",
              "  }\n",
              "\n",
              "  .colab-df-quickchart:hover {\n",
              "    background-color: var(--hover-bg-color);\n",
              "    box-shadow: 0 1px 2px rgba(60, 64, 67, 0.3), 0 1px 3px 1px rgba(60, 64, 67, 0.15);\n",
              "    fill: var(--button-hover-fill-color);\n",
              "  }\n",
              "\n",
              "  .colab-df-quickchart-complete:disabled,\n",
              "  .colab-df-quickchart-complete:disabled:hover {\n",
              "    background-color: var(--disabled-bg-color);\n",
              "    fill: var(--disabled-fill-color);\n",
              "    box-shadow: none;\n",
              "  }\n",
              "\n",
              "  .colab-df-spinner {\n",
              "    border: 2px solid var(--fill-color);\n",
              "    border-color: transparent;\n",
              "    border-bottom-color: var(--fill-color);\n",
              "    animation:\n",
              "      spin 1s steps(1) infinite;\n",
              "  }\n",
              "\n",
              "  @keyframes spin {\n",
              "    0% {\n",
              "      border-color: transparent;\n",
              "      border-bottom-color: var(--fill-color);\n",
              "      border-left-color: var(--fill-color);\n",
              "    }\n",
              "    20% {\n",
              "      border-color: transparent;\n",
              "      border-left-color: var(--fill-color);\n",
              "      border-top-color: var(--fill-color);\n",
              "    }\n",
              "    30% {\n",
              "      border-color: transparent;\n",
              "      border-left-color: var(--fill-color);\n",
              "      border-top-color: var(--fill-color);\n",
              "      border-right-color: var(--fill-color);\n",
              "    }\n",
              "    40% {\n",
              "      border-color: transparent;\n",
              "      border-right-color: var(--fill-color);\n",
              "      border-top-color: var(--fill-color);\n",
              "    }\n",
              "    60% {\n",
              "      border-color: transparent;\n",
              "      border-right-color: var(--fill-color);\n",
              "    }\n",
              "    80% {\n",
              "      border-color: transparent;\n",
              "      border-right-color: var(--fill-color);\n",
              "      border-bottom-color: var(--fill-color);\n",
              "    }\n",
              "    90% {\n",
              "      border-color: transparent;\n",
              "      border-bottom-color: var(--fill-color);\n",
              "    }\n",
              "  }\n",
              "</style>\n",
              "\n",
              "  <script>\n",
              "    async function quickchart(key) {\n",
              "      const quickchartButtonEl =\n",
              "        document.querySelector('#' + key + ' button');\n",
              "      quickchartButtonEl.disabled = true;  // To prevent multiple clicks.\n",
              "      quickchartButtonEl.classList.add('colab-df-spinner');\n",
              "      try {\n",
              "        const charts = await google.colab.kernel.invokeFunction(\n",
              "            'suggestCharts', [key], {});\n",
              "      } catch (error) {\n",
              "        console.error('Error during call to suggestCharts:', error);\n",
              "      }\n",
              "      quickchartButtonEl.classList.remove('colab-df-spinner');\n",
              "      quickchartButtonEl.classList.add('colab-df-quickchart-complete');\n",
              "    }\n",
              "    (() => {\n",
              "      let quickchartButtonEl =\n",
              "        document.querySelector('#df-531562fe-ca5d-47a7-b879-d16e0a73b43c button');\n",
              "      quickchartButtonEl.style.display =\n",
              "        google.colab.kernel.accessAllowed ? 'block' : 'none';\n",
              "    })();\n",
              "  </script>\n",
              "</div>\n",
              "    </div>\n",
              "  </div>\n"
            ]
          },
          "metadata": {},
          "execution_count": 10
        }
      ],
      "source": [
        "df"
      ]
    },
    {
      "cell_type": "code",
      "execution_count": null,
      "id": "848d816b",
      "metadata": {
        "execution": {
          "iopub.execute_input": "2023-08-02T12:08:41.015118Z",
          "iopub.status.busy": "2023-08-02T12:08:41.013474Z",
          "iopub.status.idle": "2023-08-02T12:08:41.021369Z",
          "shell.execute_reply": "2023-08-02T12:08:41.020073Z"
        },
        "id": "848d816b",
        "outputId": "cd0c1913-0042-4d1b-9211-35dceedcba87",
        "papermill": {
          "duration": 0.023988,
          "end_time": "2023-08-02T12:08:41.024000",
          "exception": false,
          "start_time": "2023-08-02T12:08:41.000012",
          "status": "completed"
        },
        "tags": [],
        "colab": {
          "base_uri": "https://localhost:8080/"
        }
      },
      "outputs": [
        {
          "output_type": "execute_result",
          "data": {
            "text/plain": [
              "(200, 5)"
            ]
          },
          "metadata": {},
          "execution_count": 11
        }
      ],
      "source": [
        "# Get the shape of the dataset (rows, columns)\n",
        "\n",
        "df.shape"
      ]
    },
    {
      "cell_type": "code",
      "execution_count": null,
      "id": "73ab71a9",
      "metadata": {
        "execution": {
          "iopub.execute_input": "2023-08-02T12:08:41.045512Z",
          "iopub.status.busy": "2023-08-02T12:08:41.045042Z",
          "iopub.status.idle": "2023-08-02T12:08:41.072489Z",
          "shell.execute_reply": "2023-08-02T12:08:41.071274Z"
        },
        "id": "73ab71a9",
        "outputId": "b2f76afa-c773-4093-c605-67a217b54bbb",
        "papermill": {
          "duration": 0.041724,
          "end_time": "2023-08-02T12:08:41.075294",
          "exception": false,
          "start_time": "2023-08-02T12:08:41.033570",
          "status": "completed"
        },
        "tags": [],
        "colab": {
          "base_uri": "https://localhost:8080/"
        }
      },
      "outputs": [
        {
          "output_type": "stream",
          "name": "stdout",
          "text": [
            "<class 'pandas.core.frame.DataFrame'>\n",
            "RangeIndex: 200 entries, 0 to 199\n",
            "Data columns (total 5 columns):\n",
            " #   Column     Non-Null Count  Dtype  \n",
            "---  ------     --------------  -----  \n",
            " 0   Index      200 non-null    int64  \n",
            " 1   TV         200 non-null    float64\n",
            " 2   Radio      200 non-null    float64\n",
            " 3   Newspaper  200 non-null    float64\n",
            " 4   Sales      200 non-null    float64\n",
            "dtypes: float64(4), int64(1)\n",
            "memory usage: 7.9 KB\n"
          ]
        }
      ],
      "source": [
        "# Check information about the dataset, data types, and missing values\n",
        "\n",
        "df.info()"
      ]
    },
    {
      "cell_type": "code",
      "execution_count": null,
      "id": "2b98ff21",
      "metadata": {
        "execution": {
          "iopub.execute_input": "2023-08-02T12:08:41.099757Z",
          "iopub.status.busy": "2023-08-02T12:08:41.098494Z",
          "iopub.status.idle": "2023-08-02T12:08:41.151145Z",
          "shell.execute_reply": "2023-08-02T12:08:41.149695Z"
        },
        "id": "2b98ff21",
        "outputId": "20304a83-3167-4c7f-ef97-db5cd011c7fb",
        "papermill": {
          "duration": 0.069216,
          "end_time": "2023-08-02T12:08:41.154237",
          "exception": false,
          "start_time": "2023-08-02T12:08:41.085021",
          "status": "completed"
        },
        "tags": [],
        "colab": {
          "base_uri": "https://localhost:8080/",
          "height": 206
        }
      },
      "outputs": [
        {
          "output_type": "execute_result",
          "data": {
            "text/plain": [
              "           count      mean        std  min     25%     50%      75%    max\n",
              "Index      200.0  100.5000  57.879185  1.0  50.750  100.50  150.250  200.0\n",
              "TV         200.0  147.0425  85.854236  0.7  74.375  149.75  218.825  296.4\n",
              "Radio      200.0   23.2640  14.846809  0.0   9.975   22.90   36.525   49.6\n",
              "Newspaper  200.0   30.5540  21.778621  0.3  12.750   25.75   45.100  114.0\n",
              "Sales      200.0   14.0225   5.217457  1.6  10.375   12.90   17.400   27.0"
            ],
            "text/html": [
              "\n",
              "  <div id=\"df-0f6e6e68-a299-45c8-a151-4ef81babd149\" class=\"colab-df-container\">\n",
              "    <div>\n",
              "<style scoped>\n",
              "    .dataframe tbody tr th:only-of-type {\n",
              "        vertical-align: middle;\n",
              "    }\n",
              "\n",
              "    .dataframe tbody tr th {\n",
              "        vertical-align: top;\n",
              "    }\n",
              "\n",
              "    .dataframe thead th {\n",
              "        text-align: right;\n",
              "    }\n",
              "</style>\n",
              "<table border=\"1\" class=\"dataframe\">\n",
              "  <thead>\n",
              "    <tr style=\"text-align: right;\">\n",
              "      <th></th>\n",
              "      <th>count</th>\n",
              "      <th>mean</th>\n",
              "      <th>std</th>\n",
              "      <th>min</th>\n",
              "      <th>25%</th>\n",
              "      <th>50%</th>\n",
              "      <th>75%</th>\n",
              "      <th>max</th>\n",
              "    </tr>\n",
              "  </thead>\n",
              "  <tbody>\n",
              "    <tr>\n",
              "      <th>Index</th>\n",
              "      <td>200.0</td>\n",
              "      <td>100.5000</td>\n",
              "      <td>57.879185</td>\n",
              "      <td>1.0</td>\n",
              "      <td>50.750</td>\n",
              "      <td>100.50</td>\n",
              "      <td>150.250</td>\n",
              "      <td>200.0</td>\n",
              "    </tr>\n",
              "    <tr>\n",
              "      <th>TV</th>\n",
              "      <td>200.0</td>\n",
              "      <td>147.0425</td>\n",
              "      <td>85.854236</td>\n",
              "      <td>0.7</td>\n",
              "      <td>74.375</td>\n",
              "      <td>149.75</td>\n",
              "      <td>218.825</td>\n",
              "      <td>296.4</td>\n",
              "    </tr>\n",
              "    <tr>\n",
              "      <th>Radio</th>\n",
              "      <td>200.0</td>\n",
              "      <td>23.2640</td>\n",
              "      <td>14.846809</td>\n",
              "      <td>0.0</td>\n",
              "      <td>9.975</td>\n",
              "      <td>22.90</td>\n",
              "      <td>36.525</td>\n",
              "      <td>49.6</td>\n",
              "    </tr>\n",
              "    <tr>\n",
              "      <th>Newspaper</th>\n",
              "      <td>200.0</td>\n",
              "      <td>30.5540</td>\n",
              "      <td>21.778621</td>\n",
              "      <td>0.3</td>\n",
              "      <td>12.750</td>\n",
              "      <td>25.75</td>\n",
              "      <td>45.100</td>\n",
              "      <td>114.0</td>\n",
              "    </tr>\n",
              "    <tr>\n",
              "      <th>Sales</th>\n",
              "      <td>200.0</td>\n",
              "      <td>14.0225</td>\n",
              "      <td>5.217457</td>\n",
              "      <td>1.6</td>\n",
              "      <td>10.375</td>\n",
              "      <td>12.90</td>\n",
              "      <td>17.400</td>\n",
              "      <td>27.0</td>\n",
              "    </tr>\n",
              "  </tbody>\n",
              "</table>\n",
              "</div>\n",
              "    <div class=\"colab-df-buttons\">\n",
              "\n",
              "  <div class=\"colab-df-container\">\n",
              "    <button class=\"colab-df-convert\" onclick=\"convertToInteractive('df-0f6e6e68-a299-45c8-a151-4ef81babd149')\"\n",
              "            title=\"Convert this dataframe to an interactive table.\"\n",
              "            style=\"display:none;\">\n",
              "\n",
              "  <svg xmlns=\"http://www.w3.org/2000/svg\" height=\"24px\" viewBox=\"0 -960 960 960\">\n",
              "    <path d=\"M120-120v-720h720v720H120Zm60-500h600v-160H180v160Zm220 220h160v-160H400v160Zm0 220h160v-160H400v160ZM180-400h160v-160H180v160Zm440 0h160v-160H620v160ZM180-180h160v-160H180v160Zm440 0h160v-160H620v160Z\"/>\n",
              "  </svg>\n",
              "    </button>\n",
              "\n",
              "  <style>\n",
              "    .colab-df-container {\n",
              "      display:flex;\n",
              "      gap: 12px;\n",
              "    }\n",
              "\n",
              "    .colab-df-convert {\n",
              "      background-color: #E8F0FE;\n",
              "      border: none;\n",
              "      border-radius: 50%;\n",
              "      cursor: pointer;\n",
              "      display: none;\n",
              "      fill: #1967D2;\n",
              "      height: 32px;\n",
              "      padding: 0 0 0 0;\n",
              "      width: 32px;\n",
              "    }\n",
              "\n",
              "    .colab-df-convert:hover {\n",
              "      background-color: #E2EBFA;\n",
              "      box-shadow: 0px 1px 2px rgba(60, 64, 67, 0.3), 0px 1px 3px 1px rgba(60, 64, 67, 0.15);\n",
              "      fill: #174EA6;\n",
              "    }\n",
              "\n",
              "    .colab-df-buttons div {\n",
              "      margin-bottom: 4px;\n",
              "    }\n",
              "\n",
              "    [theme=dark] .colab-df-convert {\n",
              "      background-color: #3B4455;\n",
              "      fill: #D2E3FC;\n",
              "    }\n",
              "\n",
              "    [theme=dark] .colab-df-convert:hover {\n",
              "      background-color: #434B5C;\n",
              "      box-shadow: 0px 1px 3px 1px rgba(0, 0, 0, 0.15);\n",
              "      filter: drop-shadow(0px 1px 2px rgba(0, 0, 0, 0.3));\n",
              "      fill: #FFFFFF;\n",
              "    }\n",
              "  </style>\n",
              "\n",
              "    <script>\n",
              "      const buttonEl =\n",
              "        document.querySelector('#df-0f6e6e68-a299-45c8-a151-4ef81babd149 button.colab-df-convert');\n",
              "      buttonEl.style.display =\n",
              "        google.colab.kernel.accessAllowed ? 'block' : 'none';\n",
              "\n",
              "      async function convertToInteractive(key) {\n",
              "        const element = document.querySelector('#df-0f6e6e68-a299-45c8-a151-4ef81babd149');\n",
              "        const dataTable =\n",
              "          await google.colab.kernel.invokeFunction('convertToInteractive',\n",
              "                                                    [key], {});\n",
              "        if (!dataTable) return;\n",
              "\n",
              "        const docLinkHtml = 'Like what you see? Visit the ' +\n",
              "          '<a target=\"_blank\" href=https://colab.research.google.com/notebooks/data_table.ipynb>data table notebook</a>'\n",
              "          + ' to learn more about interactive tables.';\n",
              "        element.innerHTML = '';\n",
              "        dataTable['output_type'] = 'display_data';\n",
              "        await google.colab.output.renderOutput(dataTable, element);\n",
              "        const docLink = document.createElement('div');\n",
              "        docLink.innerHTML = docLinkHtml;\n",
              "        element.appendChild(docLink);\n",
              "      }\n",
              "    </script>\n",
              "  </div>\n",
              "\n",
              "\n",
              "<div id=\"df-8a984c56-e29d-411c-81eb-715dbf7a8ece\">\n",
              "  <button class=\"colab-df-quickchart\" onclick=\"quickchart('df-8a984c56-e29d-411c-81eb-715dbf7a8ece')\"\n",
              "            title=\"Suggest charts.\"\n",
              "            style=\"display:none;\">\n",
              "\n",
              "<svg xmlns=\"http://www.w3.org/2000/svg\" height=\"24px\"viewBox=\"0 0 24 24\"\n",
              "     width=\"24px\">\n",
              "    <g>\n",
              "        <path d=\"M19 3H5c-1.1 0-2 .9-2 2v14c0 1.1.9 2 2 2h14c1.1 0 2-.9 2-2V5c0-1.1-.9-2-2-2zM9 17H7v-7h2v7zm4 0h-2V7h2v10zm4 0h-2v-4h2v4z\"/>\n",
              "    </g>\n",
              "</svg>\n",
              "  </button>\n",
              "\n",
              "<style>\n",
              "  .colab-df-quickchart {\n",
              "      --bg-color: #E8F0FE;\n",
              "      --fill-color: #1967D2;\n",
              "      --hover-bg-color: #E2EBFA;\n",
              "      --hover-fill-color: #174EA6;\n",
              "      --disabled-fill-color: #AAA;\n",
              "      --disabled-bg-color: #DDD;\n",
              "  }\n",
              "\n",
              "  [theme=dark] .colab-df-quickchart {\n",
              "      --bg-color: #3B4455;\n",
              "      --fill-color: #D2E3FC;\n",
              "      --hover-bg-color: #434B5C;\n",
              "      --hover-fill-color: #FFFFFF;\n",
              "      --disabled-bg-color: #3B4455;\n",
              "      --disabled-fill-color: #666;\n",
              "  }\n",
              "\n",
              "  .colab-df-quickchart {\n",
              "    background-color: var(--bg-color);\n",
              "    border: none;\n",
              "    border-radius: 50%;\n",
              "    cursor: pointer;\n",
              "    display: none;\n",
              "    fill: var(--fill-color);\n",
              "    height: 32px;\n",
              "    padding: 0;\n",
              "    width: 32px;\n",
              "  }\n",
              "\n",
              "  .colab-df-quickchart:hover {\n",
              "    background-color: var(--hover-bg-color);\n",
              "    box-shadow: 0 1px 2px rgba(60, 64, 67, 0.3), 0 1px 3px 1px rgba(60, 64, 67, 0.15);\n",
              "    fill: var(--button-hover-fill-color);\n",
              "  }\n",
              "\n",
              "  .colab-df-quickchart-complete:disabled,\n",
              "  .colab-df-quickchart-complete:disabled:hover {\n",
              "    background-color: var(--disabled-bg-color);\n",
              "    fill: var(--disabled-fill-color);\n",
              "    box-shadow: none;\n",
              "  }\n",
              "\n",
              "  .colab-df-spinner {\n",
              "    border: 2px solid var(--fill-color);\n",
              "    border-color: transparent;\n",
              "    border-bottom-color: var(--fill-color);\n",
              "    animation:\n",
              "      spin 1s steps(1) infinite;\n",
              "  }\n",
              "\n",
              "  @keyframes spin {\n",
              "    0% {\n",
              "      border-color: transparent;\n",
              "      border-bottom-color: var(--fill-color);\n",
              "      border-left-color: var(--fill-color);\n",
              "    }\n",
              "    20% {\n",
              "      border-color: transparent;\n",
              "      border-left-color: var(--fill-color);\n",
              "      border-top-color: var(--fill-color);\n",
              "    }\n",
              "    30% {\n",
              "      border-color: transparent;\n",
              "      border-left-color: var(--fill-color);\n",
              "      border-top-color: var(--fill-color);\n",
              "      border-right-color: var(--fill-color);\n",
              "    }\n",
              "    40% {\n",
              "      border-color: transparent;\n",
              "      border-right-color: var(--fill-color);\n",
              "      border-top-color: var(--fill-color);\n",
              "    }\n",
              "    60% {\n",
              "      border-color: transparent;\n",
              "      border-right-color: var(--fill-color);\n",
              "    }\n",
              "    80% {\n",
              "      border-color: transparent;\n",
              "      border-right-color: var(--fill-color);\n",
              "      border-bottom-color: var(--fill-color);\n",
              "    }\n",
              "    90% {\n",
              "      border-color: transparent;\n",
              "      border-bottom-color: var(--fill-color);\n",
              "    }\n",
              "  }\n",
              "</style>\n",
              "\n",
              "  <script>\n",
              "    async function quickchart(key) {\n",
              "      const quickchartButtonEl =\n",
              "        document.querySelector('#' + key + ' button');\n",
              "      quickchartButtonEl.disabled = true;  // To prevent multiple clicks.\n",
              "      quickchartButtonEl.classList.add('colab-df-spinner');\n",
              "      try {\n",
              "        const charts = await google.colab.kernel.invokeFunction(\n",
              "            'suggestCharts', [key], {});\n",
              "      } catch (error) {\n",
              "        console.error('Error during call to suggestCharts:', error);\n",
              "      }\n",
              "      quickchartButtonEl.classList.remove('colab-df-spinner');\n",
              "      quickchartButtonEl.classList.add('colab-df-quickchart-complete');\n",
              "    }\n",
              "    (() => {\n",
              "      let quickchartButtonEl =\n",
              "        document.querySelector('#df-8a984c56-e29d-411c-81eb-715dbf7a8ece button');\n",
              "      quickchartButtonEl.style.display =\n",
              "        google.colab.kernel.accessAllowed ? 'block' : 'none';\n",
              "    })();\n",
              "  </script>\n",
              "</div>\n",
              "    </div>\n",
              "  </div>\n"
            ]
          },
          "metadata": {},
          "execution_count": 13
        }
      ],
      "source": [
        "# Get statistical summary of the numerical columns\n",
        "\n",
        "df.describe().T"
      ]
    },
    {
      "cell_type": "code",
      "execution_count": null,
      "id": "49e8a304",
      "metadata": {
        "execution": {
          "iopub.execute_input": "2023-08-02T12:08:41.177008Z",
          "iopub.status.busy": "2023-08-02T12:08:41.176526Z",
          "iopub.status.idle": "2023-08-02T12:08:41.187237Z",
          "shell.execute_reply": "2023-08-02T12:08:41.186332Z"
        },
        "id": "49e8a304",
        "outputId": "c0aa660e-e207-422e-bea8-8d96e7c9d843",
        "papermill": {
          "duration": 0.025023,
          "end_time": "2023-08-02T12:08:41.189630",
          "exception": false,
          "start_time": "2023-08-02T12:08:41.164607",
          "status": "completed"
        },
        "tags": [],
        "colab": {
          "base_uri": "https://localhost:8080/"
        }
      },
      "outputs": [
        {
          "output_type": "execute_result",
          "data": {
            "text/plain": [
              "Index        0\n",
              "TV           0\n",
              "Radio        0\n",
              "Newspaper    0\n",
              "Sales        0\n",
              "dtype: int64"
            ]
          },
          "metadata": {},
          "execution_count": 14
        }
      ],
      "source": [
        "# Check for missing values in the dataset\n",
        "\n",
        "df.isnull().values.any()\n",
        "df.isnull().sum()"
      ]
    },
    {
      "cell_type": "markdown",
      "id": "69f06200",
      "metadata": {
        "id": "69f06200",
        "papermill": {
          "duration": 0.010645,
          "end_time": "2023-08-02T12:08:41.210862",
          "exception": false,
          "start_time": "2023-08-02T12:08:41.200217",
          "status": "completed"
        },
        "tags": []
      },
      "source": [
        "### Data Visualization"
      ]
    },
    {
      "cell_type": "code",
      "execution_count": null,
      "id": "e22097ca",
      "metadata": {
        "execution": {
          "iopub.execute_input": "2023-08-02T12:08:41.233713Z",
          "iopub.status.busy": "2023-08-02T12:08:41.233269Z",
          "iopub.status.idle": "2023-08-02T12:08:42.566104Z",
          "shell.execute_reply": "2023-08-02T12:08:42.564952Z"
        },
        "id": "e22097ca",
        "outputId": "27bd3de4-82fb-4142-e79e-f6de90730dc2",
        "papermill": {
          "duration": 1.347243,
          "end_time": "2023-08-02T12:08:42.568490",
          "exception": false,
          "start_time": "2023-08-02T12:08:41.221247",
          "status": "completed"
        },
        "tags": [],
        "colab": {
          "base_uri": "https://localhost:8080/",
          "height": 285
        }
      },
      "outputs": [
        {
          "output_type": "execute_result",
          "data": {
            "text/plain": [
              "<seaborn.axisgrid.PairGrid at 0x7d1c523c83d0>"
            ]
          },
          "metadata": {},
          "execution_count": 15
        },
        {
          "output_type": "display_data",
          "data": {
            "text/plain": [
              "<Figure size 750x250 with 3 Axes>"
            ],
            "image/png": "[encoded data removed]"
          },
          "metadata": {}
        }
      ],
      "source": [
        "# Scatter plots to check the linearity assumption between each independent variable (TV, Radio, Newspaper) and the dependent variable (Sales)\n",
        "\n",
        "sns.pairplot(df, x_vars=[\"TV\", \"Radio\", \"Newspaper\"], y_vars=\"Sales\", kind=\"reg\")\n"
      ]
    },
    {
      "cell_type": "code",
      "execution_count": null,
      "id": "558862ed",
      "metadata": {
        "execution": {
          "iopub.execute_input": "2023-08-02T12:08:42.594022Z",
          "iopub.status.busy": "2023-08-02T12:08:42.593509Z",
          "iopub.status.idle": "2023-08-02T12:08:43.794469Z",
          "shell.execute_reply": "2023-08-02T12:08:43.793116Z"
        },
        "id": "558862ed",
        "outputId": "4945811c-d53f-4ea2-b841-1ebfce055a87",
        "papermill": {
          "duration": 1.217306,
          "end_time": "2023-08-02T12:08:43.797543",
          "exception": false,
          "start_time": "2023-08-02T12:08:42.580237",
          "status": "completed"
        },
        "tags": [],
        "colab": {
          "base_uri": "https://localhost:8080/",
          "height": 539
        }
      },
      "outputs": [
        {
          "output_type": "execute_result",
          "data": {
            "text/plain": [
              "array([[<Axes: title={'center': 'Index'}>,\n",
              "        <Axes: title={'center': 'TV'}>],\n",
              "       [<Axes: title={'center': 'Radio'}>,\n",
              "        <Axes: title={'center': 'Newspaper'}>],\n",
              "       [<Axes: title={'center': 'Sales'}>, <Axes: >]], dtype=object)"
            ]
          },
          "metadata": {},
          "execution_count": 16
        },
        {
          "output_type": "display_data",
          "data": {
            "text/plain": [
              "<Figure size 640x480 with 6 Axes>"
            ],
            "image/png": "[encoded data removed]"
          },
          "metadata": {}
        }
      ],
      "source": [
        "# Histograms to check the normality assumption of the dependent variable (Sales)\n",
        "\n",
        "df.hist(bins=20)"
      ]
    },
    {
      "cell_type": "code",
      "execution_count": null,
      "id": "9ba27ee1",
      "metadata": {
        "execution": {
          "iopub.execute_input": "2023-08-02T12:08:43.827438Z",
          "iopub.status.busy": "2023-08-02T12:08:43.826213Z",
          "iopub.status.idle": "2023-08-02T12:08:45.926402Z",
          "shell.execute_reply": "2023-08-02T12:08:45.925073Z"
        },
        "id": "9ba27ee1",
        "outputId": "69882e67-ca55-4ee9-fbcb-6ccfa2ad810e",
        "papermill": {
          "duration": 2.118468,
          "end_time": "2023-08-02T12:08:45.929162",
          "exception": false,
          "start_time": "2023-08-02T12:08:43.810694",
          "status": "completed"
        },
        "tags": [],
        "colab": {
          "base_uri": "https://localhost:8080/",
          "height": 1000
        }
      },
      "outputs": [
        {
          "output_type": "execute_result",
          "data": {
            "text/plain": [
              "<seaborn.axisgrid.FacetGrid at 0x7d1c4dd52aa0>"
            ]
          },
          "metadata": {},
          "execution_count": 17
        },
        {
          "output_type": "display_data",
          "data": {
            "text/plain": [
              "<Figure size 500x500 with 1 Axes>"
            ],
            "image/png": "[encoded data removed]"
          },
          "metadata": {}
        },
        {
          "output_type": "display_data",
          "data": {
            "text/plain": [
              "<Figure size 500x500 with 1 Axes>"
            ],
            "image/png": "[encoded data removed]"
          },
          "metadata": {}
        },
        {
          "output_type": "display_data",
          "data": {
            "text/plain": [
              "<Figure size 500x500 with 1 Axes>"
            ],
            "image/png": "[encoded data removed]"
          },
          "metadata": {}
        }
      ],
      "source": [
        "# Linear regression plots to visualize the relationship between each independent variable and the dependent variable\n",
        "\n",
        "sns.lmplot(x='TV', y='Sales', data=df)\n",
        "sns.lmplot(x='Radio', y='Sales', data=df)\n",
        "sns.lmplot(x='Newspaper',y= 'Sales', data=df)"
      ]
    },
    {
      "cell_type": "code",
      "execution_count": null,
      "id": "684cad94",
      "metadata": {
        "execution": {
          "iopub.execute_input": "2023-08-02T12:08:45.962201Z",
          "iopub.status.busy": "2023-08-02T12:08:45.961771Z",
          "iopub.status.idle": "2023-08-02T12:08:46.326614Z",
          "shell.execute_reply": "2023-08-02T12:08:46.325176Z"
        },
        "id": "684cad94",
        "outputId": "63c3cbe3-cd6c-4811-d305-4c8fb0aa43b8",
        "papermill": {
          "duration": 0.384747,
          "end_time": "2023-08-02T12:08:46.329466",
          "exception": false,
          "start_time": "2023-08-02T12:08:45.944719",
          "status": "completed"
        },
        "tags": [],
        "colab": {
          "base_uri": "https://localhost:8080/",
          "height": 759
        }
      },
      "outputs": [
        {
          "output_type": "display_data",
          "data": {
            "text/plain": [
              "<Figure size 1200x900 with 2 Axes>"
            ],
            "image/png": "[encoded data removed]"
          },
          "metadata": {}
        }
      ],
      "source": [
        "# Correlation Heatmap to check for multicollinearity among independent/dependent variables\n",
        "\n",
        "corrmat = df.corr()\n",
        "f, ax = plt.subplots(figsize=(12, 9))\n",
        "sns.heatmap(corrmat, vmin=0, vmax=1, square=True, cmap=\"YlGnBu\", ax=ax)\n",
        "plt.show()"
      ]
    },
    {
      "cell_type": "code",
      "execution_count": null,
      "id": "cba140c7",
      "metadata": {
        "execution": {
          "iopub.execute_input": "2023-08-02T12:08:46.362821Z",
          "iopub.status.busy": "2023-08-02T12:08:46.362381Z",
          "iopub.status.idle": "2023-08-02T12:08:46.374584Z",
          "shell.execute_reply": "2023-08-02T12:08:46.373273Z"
        },
        "id": "cba140c7",
        "papermill": {
          "duration": 0.032618,
          "end_time": "2023-08-02T12:08:46.377914",
          "exception": false,
          "start_time": "2023-08-02T12:08:46.345296",
          "status": "completed"
        },
        "tags": []
      },
      "outputs": [],
      "source": [
        "# Model Preparation\n",
        "\n",
        "X = df.drop('Sales', axis=1)\n",
        "y = df[[\"Sales\"]]\n",
        "\n",
        "X_train, X_test, y_train, y_test = train_test_split(X, y, test_size=0.20, random_state=46)\n"
      ]
    },
    {
      "cell_type": "code",
      "execution_count": null,
      "id": "1e78b883",
      "metadata": {
        "execution": {
          "iopub.execute_input": "2023-08-02T12:08:46.413820Z",
          "iopub.status.busy": "2023-08-02T12:08:46.413295Z",
          "iopub.status.idle": "2023-08-02T12:08:46.433355Z",
          "shell.execute_reply": "2023-08-02T12:08:46.432088Z"
        },
        "id": "1e78b883",
        "papermill": {
          "duration": 0.041634,
          "end_time": "2023-08-02T12:08:46.435946",
          "exception": false,
          "start_time": "2023-08-02T12:08:46.394312",
          "status": "completed"
        },
        "tags": []
      },
      "outputs": [],
      "source": [
        "# Linear Regression Model\n",
        "\n",
        "lin_model = sm.ols(formula=\"Sales ~ TV + Radio + Newspaper\", data=df).fit()\n"
      ]
    },
    {
      "cell_type": "code",
      "execution_count": null,
      "id": "24568477",
      "metadata": {
        "execution": {
          "iopub.execute_input": "2023-08-02T12:08:46.469836Z",
          "iopub.status.busy": "2023-08-02T12:08:46.469001Z",
          "iopub.status.idle": "2023-08-02T12:08:46.477046Z",
          "shell.execute_reply": "2023-08-02T12:08:46.475852Z"
        },
        "id": "24568477",
        "outputId": "0ef89ba1-b875-483c-aecc-81bdf9c3510f",
        "papermill": {
          "duration": 0.027686,
          "end_time": "2023-08-02T12:08:46.479218",
          "exception": false,
          "start_time": "2023-08-02T12:08:46.451532",
          "status": "completed"
        },
        "tags": [],
        "colab": {
          "base_uri": "https://localhost:8080/"
        }
      },
      "outputs": [
        {
          "output_type": "stream",
          "name": "stdout",
          "text": [
            "Intercept    2.938889\n",
            "TV           0.045765\n",
            "Radio        0.188530\n",
            "Newspaper   -0.001037\n",
            "dtype: float64 \n",
            "\n"
          ]
        }
      ],
      "source": [
        "# Print the coefficients of the linear model\n",
        "\n",
        "print(lin_model.params, \"\\n\")"
      ]
    },
    {
      "cell_type": "code",
      "execution_count": null,
      "id": "ab061447",
      "metadata": {
        "execution": {
          "iopub.execute_input": "2023-08-02T12:08:46.513314Z",
          "iopub.status.busy": "2023-08-02T12:08:46.512318Z",
          "iopub.status.idle": "2023-08-02T12:08:46.541451Z",
          "shell.execute_reply": "2023-08-02T12:08:46.539166Z"
        },
        "id": "ab061447",
        "outputId": "4ca50487-915c-461f-ea9f-6ebb0a7d8cbc",
        "papermill": {
          "duration": 0.049539,
          "end_time": "2023-08-02T12:08:46.544442",
          "exception": false,
          "start_time": "2023-08-02T12:08:46.494903",
          "status": "completed"
        },
        "tags": [],
        "colab": {
          "base_uri": "https://localhost:8080/"
        }
      },
      "outputs": [
        {
          "output_type": "stream",
          "name": "stdout",
          "text": [
            "                            OLS Regression Results                            \n",
            "==============================================================================\n",
            "Dep. Variable:                  Sales   R-squared:                       0.897\n",
            "Model:                            OLS   Adj. R-squared:                  0.896\n",
            "Method:                 Least Squares   F-statistic:                     570.3\n",
            "Date:                Fri, 06 Oct 2023   Prob (F-statistic):           1.58e-96\n",
            "Time:                        04:00:18   Log-Likelihood:                -386.18\n",
            "No. Observations:                 200   AIC:                             780.4\n",
            "Df Residuals:                     196   BIC:                             793.6\n",
            "Df Model:                           3                                         \n",
            "Covariance Type:            nonrobust                                         \n",
            "==============================================================================\n",
            "                 coef    std err          t      P>|t|      [0.025      0.975]\n",
            "------------------------------------------------------------------------------\n",
            "Intercept      2.9389      0.312      9.422      0.000       2.324       3.554\n",
            "TV             0.0458      0.001     32.809      0.000       0.043       0.049\n",
            "Radio          0.1885      0.009     21.893      0.000       0.172       0.206\n",
            "Newspaper     -0.0010      0.006     -0.177      0.860      -0.013       0.011\n",
            "==============================================================================\n",
            "Omnibus:                       60.414   Durbin-Watson:                   2.084\n",
            "Prob(Omnibus):                  0.000   Jarque-Bera (JB):              151.241\n",
            "Skew:                          -1.327   Prob(JB):                     1.44e-33\n",
            "Kurtosis:                       6.332   Cond. No.                         454.\n",
            "==============================================================================\n",
            "\n",
            "Notes:\n",
            "[1] Standard Errors assume that the covariance matrix of the errors is correctly specified.\n"
          ]
        }
      ],
      "source": [
        "# Print the summary of the linear regression model\n",
        "\n",
        "print(lin_model.summary())\n"
      ]
    },
    {
      "cell_type": "code",
      "execution_count": null,
      "id": "a2813579",
      "metadata": {
        "execution": {
          "iopub.execute_input": "2023-08-02T12:08:46.578703Z",
          "iopub.status.busy": "2023-08-02T12:08:46.577839Z",
          "iopub.status.idle": "2023-08-02T12:08:46.584319Z",
          "shell.execute_reply": "2023-08-02T12:08:46.583050Z"
        },
        "id": "a2813579",
        "papermill": {
          "duration": 0.026445,
          "end_time": "2023-08-02T12:08:46.586890",
          "exception": false,
          "start_time": "2023-08-02T12:08:46.560445",
          "status": "completed"
        },
        "tags": []
      },
      "outputs": [],
      "source": [
        "# Evaluate the model\n",
        "\n",
        "results = []\n",
        "names = []"
      ]
    },
    {
      "cell_type": "code",
      "execution_count": null,
      "id": "e796683e",
      "metadata": {
        "execution": {
          "iopub.execute_input": "2023-08-02T12:08:46.622591Z",
          "iopub.status.busy": "2023-08-02T12:08:46.622071Z",
          "iopub.status.idle": "2023-08-02T12:08:46.628311Z",
          "shell.execute_reply": "2023-08-02T12:08:46.627031Z"
        },
        "id": "e796683e",
        "papermill": {
          "duration": 0.027207,
          "end_time": "2023-08-02T12:08:46.630988",
          "exception": false,
          "start_time": "2023-08-02T12:08:46.603781",
          "status": "completed"
        },
        "tags": []
      },
      "outputs": [],
      "source": [
        "# Define a list of models to evaluate\n",
        "\n",
        "models = [('LinearRegression', LinearRegression())]"
      ]
    },
    {
      "cell_type": "code",
      "execution_count": null,
      "id": "c361e739",
      "metadata": {
        "execution": {
          "iopub.execute_input": "2023-08-02T12:08:46.665786Z",
          "iopub.status.busy": "2023-08-02T12:08:46.665290Z",
          "iopub.status.idle": "2023-08-02T12:08:46.699793Z",
          "shell.execute_reply": "2023-08-02T12:08:46.698716Z"
        },
        "id": "c361e739",
        "outputId": "2004c7ac-bcb7-479b-d56d-5962cf13001e",
        "papermill": {
          "duration": 0.054676,
          "end_time": "2023-08-02T12:08:46.702011",
          "exception": false,
          "start_time": "2023-08-02T12:08:46.647335",
          "status": "completed"
        },
        "tags": [],
        "colab": {
          "base_uri": "https://localhost:8080/"
        }
      },
      "outputs": [
        {
          "output_type": "stream",
          "name": "stdout",
          "text": [
            "LinearRegression: 1.703648\n"
          ]
        }
      ],
      "source": [
        "# Loop through each model, fit it to the data, and calculate the RMSE\n",
        "\n",
        "for name, model in models:\n",
        "    model.fit(X_train, y_train)\n",
        "    y_pred = model.predict(X_test)\n",
        "    result = np.sqrt(mean_squared_error(y_test, y_pred))\n",
        "    results.append(result)\n",
        "    names.append(name)\n",
        "    msg = \"%s: %f\" % (name, result)\n",
        "    print(msg)"
      ]
    },
    {
      "cell_type": "code",
      "execution_count": null,
      "id": "b53b3b30",
      "metadata": {
        "execution": {
          "iopub.execute_input": "2023-08-02T12:08:46.739097Z",
          "iopub.status.busy": "2023-08-02T12:08:46.738337Z",
          "iopub.status.idle": "2023-08-02T12:08:46.754436Z",
          "shell.execute_reply": "2023-08-02T12:08:46.752918Z"
        },
        "id": "b53b3b30",
        "outputId": "8a78a569-e28b-4ae1-9e74-0db795249445",
        "papermill": {
          "duration": 0.037584,
          "end_time": "2023-08-02T12:08:46.757152",
          "exception": false,
          "start_time": "2023-08-02T12:08:46.719568",
          "status": "completed"
        },
        "tags": [],
        "colab": {
          "base_uri": "https://localhost:8080/"
        }
      },
      "outputs": [
        {
          "output_type": "stream",
          "name": "stdout",
          "text": [
            "Predicted Sales: 0    16.915917\n",
            "dtype: float64\n"
          ]
        }
      ],
      "source": [
        "# Make predictions on new data\n",
        "\n",
        "new_data = pd.DataFrame({'TV': [100], 'Radio': [50], 'Newspaper': [25]})\n",
        "predicted_sales = lin_model.predict(new_data)\n",
        "print(\"Predicted Sales:\", predicted_sales)"
      ]
    },
    {
      "cell_type": "code",
      "execution_count": null,
      "id": "03f0889a",
      "metadata": {
        "execution": {
          "iopub.execute_input": "2023-08-02T12:08:46.792839Z",
          "iopub.status.busy": "2023-08-02T12:08:46.792347Z",
          "iopub.status.idle": "2023-08-02T12:08:46.808913Z",
          "shell.execute_reply": "2023-08-02T12:08:46.807693Z"
        },
        "id": "03f0889a",
        "outputId": "7af13cce-c41a-44c5-9145-cdb30fa209f7",
        "papermill": {
          "duration": 0.037249,
          "end_time": "2023-08-02T12:08:46.811194",
          "exception": false,
          "start_time": "2023-08-02T12:08:46.773945",
          "status": "completed"
        },
        "tags": [],
        "colab": {
          "base_uri": "https://localhost:8080/"
        }
      },
      "outputs": [
        {
          "output_type": "stream",
          "name": "stdout",
          "text": [
            "Predicted Sales: 0    15.877397\n",
            "dtype: float64\n"
          ]
        }
      ],
      "source": [
        "# Make predictions on new data\n",
        "\n",
        "new_data = pd.DataFrame({'TV': [25], 'Radio': [63], 'Newspaper': [80]})\n",
        "predicted_sales = lin_model.predict(new_data)\n",
        "print(\"Predicted Sales:\", predicted_sales)"
      ]
    }
  ],
  "metadata": {
    "kernelspec": {
      "display_name": "Python 3",
      "language": "python",
      "name": "python3"
    },
    "language_info": {
      "codemirror_mode": {
        "name": "ipython",
        "version": 3
      },
      "file_extension": ".py",
      "mimetype": "text/x-python",
      "name": "python",
      "nbconvert_exporter": "python",
      "pygments_lexer": "ipython3",
      "version": "3.10.12"
    },
    "papermill": {
      "default_parameters": {},
      "duration": 23.952905,
      "end_time": "2023-08-02T12:08:49.363517",
      "environment_variables": {},
      "exception": null,
      "input_path": "__notebook__.ipynb",
      "output_path": "__notebook__.ipynb",
      "parameters": {},
      "start_time": "2023-08-02T12:08:25.410612",
      "version": "2.4.0"
    },
    "colab": {
      "provenance": []
    }
  },
  "nbformat": 4,
  "nbformat_minor": 5
}